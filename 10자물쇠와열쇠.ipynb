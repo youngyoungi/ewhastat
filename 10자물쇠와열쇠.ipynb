{
 "cells": [
  {
   "cell_type": "markdown",
   "metadata": {},
   "source": [
    "## 10 자물쇠와 열쇠(구현)"
   ]
  },
  {
   "cell_type": "markdown",
   "metadata": {},
   "source": [
    "- 홈 부분:0, 돌기 부분:1\n",
    "- N: 자물쇠 크기lock, M: 열쇠 크기key => M은 항상 N 이하 즉 자물쇠가 항상 열쇠보다 큼\n",
    "- 열쇠는 회전, 이동 가능\n",
    "- 자물쇠의 모든 홈을 채워야 열림 => 자물쇠 부분이 모두 1이 되어야함"
   ]
  },
  {
   "cell_type": "code",
   "execution_count": null,
   "metadata": {},
   "outputs": [],
   "source": [
    "key=int(input())\n",
    "lock=int(input())"
   ]
  },
  {
   "cell_type": "code",
   "execution_count": 4,
   "metadata": {},
   "outputs": [
    {
     "name": "stdout",
     "output_type": "stream",
     "text": [
      "3\n",
      "0 0 0\n",
      "1 0 0\n",
      "0 1 1\n",
      "[[0, 0, 0], [1, 0, 0], [0, 1, 1]]\n",
      "3\n",
      "1 1 1\n",
      "1 1 0\n",
      "1 0 1\n",
      "[[1, 1, 1], [1, 1, 0], [1, 0, 1]]\n"
     ]
    }
   ],
   "source": [
    "M = int(input())\n",
    "key = [list(map(int,input().split())) for _ in range(M)]\n",
    "print(key)\n",
    "\n",
    "N = int(input())\n",
    "lock = [list(map(int,input().split())) for _ in range(N)]\n",
    "print(lock)"
   ]
  },
  {
   "cell_type": "markdown",
   "metadata": {},
   "source": [
    "### 책 풀이\n",
    "- N,M이 최대 20으로 완전 탐색을 해도 400번만 탐색하면 되므로 복잡하게 생각하지 말고 그냥 new_lock 크기를 기존 lock의 3배로 생각한듯\n",
    "- M은 항상 N 이하이므로 new_lock 크기를 N의 3배로 지정하면 범위 절대 벗어나지 않으므로"
   ]
  },
  {
   "cell_type": "code",
   "execution_count": 8,
   "metadata": {},
   "outputs": [],
   "source": [
    "#2차원 리스트 90도 회전\n",
    "def rotate90(a):\n",
    "    n=len(a)    #행 길이\n",
    "    m=len(a[0]) #열 길이\n",
    "    result=[[0]*n for _ in range(m)]\n",
    "    for i in range(n):\n",
    "        for j in range(m):\n",
    "            result[j][n-i-1]=a[i][j] #90도 회전\n",
    "    return result"
   ]
  },
  {
   "cell_type": "code",
   "execution_count": 6,
   "metadata": {},
   "outputs": [],
   "source": [
    "def check(new_lock):\n",
    "    lock_length=len(new_lock)//3  #기존 lock자물쇠 길이\n",
    "    for i in range(lock_length,lock_length*2): #기존 자물쇠가 있는 중앙 부분 탐색\n",
    "        for j in range(lock_length,lock_length*2):\n",
    "            if new_lock[i][j]==1:\n",
    "                return True\n",
    "    else: return False"
   ]
  },
  {
   "cell_type": "code",
   "execution_count": 18,
   "metadata": {},
   "outputs": [],
   "source": [
    "def solution(key,lock):\n",
    "    n=len(lock)\n",
    "    m=len(key)\n",
    "    new_lock=[[0]*(n*3) for _ in range(n*3)] #원래 자물쇠 크기의 3배로 new_lock 크기 정함\n",
    "    \n",
    "    for i in range(n):\n",
    "        for j in range(m):\n",
    "            new_lock[i+n][j]=lock[i][j]  #new_lock 중앙에 기존 자물쇠 위치\n",
    "    \n",
    "    for rotation in range(4):    #모든 방향 탐색\n",
    "        key=rotate90(key)\n",
    "        for x in range(n*2):\n",
    "            for y in range(n*2):\n",
    "                for i in range(m):\n",
    "                    for j in range(m):\n",
    "                        new_lock[x+i][y+j]+=key[i][j]  #기존 자물쇠(0,1) + 새로운 자물쇠(0,1) 더하기\n",
    "                if check(new_lock)==True:\n",
    "                    return True\n",
    "\n",
    "                for i in range(m): #열쇠 다시 빼기\n",
    "                    for j in range(m):\n",
    "                        new_lock[x+i][y+j]-=key[i][j]   #이 과정을 상하좌우 총 n*2번 이동하면서 확인\n",
    "    return False"
   ]
  },
  {
   "cell_type": "code",
   "execution_count": 17,
   "metadata": {},
   "outputs": [
    {
     "data": {
      "text/plain": [
       "True"
      ]
     },
     "execution_count": 17,
     "metadata": {},
     "output_type": "execute_result"
    }
   ],
   "source": [
    "solution(key=key,lock=lock)"
   ]
  },
  {
   "cell_type": "markdown",
   "metadata": {},
   "source": [
    "### 조금 더 간단해보이는 풀이\n",
    "- https://johnyejin.tistory.com/127\n",
    "- 이해 쉬운 그림 있음\n",
    "- 회전 함수는 위에서 정의한 rotate90 사용\n",
    "- 여기서 expendList = new_lock\n",
    "- 위 풀이와 가장 큰 차이점: key의 오른쪽 아래 격자와 lock의 왼쪽 위 격자 하나씩은 겹쳐도 상관 없음. 탐색하는 칸 줄어드는 셈"
   ]
  },
  {
   "cell_type": "code",
   "execution_count": 23,
   "metadata": {},
   "outputs": [],
   "source": [
    "# 자물쇠가 열리는지 확인하는 함수\n",
    "def check(startX, startY, key, lock, expendSize, start, end):\n",
    "    expendList = [[0] * expendSize for _ in range(expendSize)]\n",
    "\n",
    "    # expendList에 key 추가\n",
    "    for i in range(len(key)):\n",
    "        for j in range(len(key)):\n",
    "            expendList[startX + i][startY + j] += key[i][j]  #startX, startY: 이동완료한 key의 위치\n",
    "\n",
    "    # expendList에 lock 추가하면서 기존 값이랑 더하기\n",
    "    for i in range(start, end):    #start, end: lock 위치\n",
    "        for j in range(start, end):\n",
    "            expendList[i][j] += lock[i - start][j - start]  #기존 값에 lock 추가(지금 시작점이 start라서 start 빼는것)\n",
    "            if expendList[i][j] != 1:\n",
    "                return False\n",
    "\n",
    "    return True\n",
    "\n",
    "def solution(key, lock):\n",
    "    start = len(key) - 1     # expendList에서 lock의 시작 지점\n",
    "    end = start + len(lock)  # expendList에서 lock이 끝나는 지점\n",
    "    expendSize = len(lock) + start * 2  # expendList 배열의 크기\n",
    "\n",
    "    # lock은 고정이고 key가 움직이는거!!!\n",
    "    # 출발점에서 모든 방향(상하좌우)로 이동하여 확인 후 자물쇠 회전하여 다시 출발점에서 모든 방향 이동하며 확인\n",
    "      \n",
    "    for a in range(0, 4):             #상하좌우 이동\n",
    "        for i in range(end):          #한 방향에 대해 총 5번(N,M=3이라면) 이동하면 new_lock 모든 칸 확인/이동한 셈\n",
    "            for j in range(end):\n",
    "                if check(i, j, key, lock, expendSize, start, end):\n",
    "                    return True\n",
    "        key = rotate90(key)           # 한 방향에 대해 다 확인한 후 90도 회전\n",
    "\n",
    "    return False"
   ]
  },
  {
   "cell_type": "code",
   "execution_count": 24,
   "metadata": {},
   "outputs": [
    {
     "data": {
      "text/plain": [
       "True"
      ]
     },
     "execution_count": 24,
     "metadata": {},
     "output_type": "execute_result"
    }
   ],
   "source": [
    "solution(key,lock)"
   ]
  },
  {
   "cell_type": "code",
   "execution_count": null,
   "metadata": {},
   "outputs": [],
   "source": []
  }
 ],
 "metadata": {
  "kernelspec": {
   "display_name": "Python 3",
   "language": "python",
   "name": "python3"
  },
  "language_info": {
   "codemirror_mode": {
    "name": "ipython",
    "version": 3
   },
   "file_extension": ".py",
   "mimetype": "text/x-python",
   "name": "python",
   "nbconvert_exporter": "python",
   "pygments_lexer": "ipython3",
   "version": "3.8.5"
  }
 },
 "nbformat": 4,
 "nbformat_minor": 4
}
