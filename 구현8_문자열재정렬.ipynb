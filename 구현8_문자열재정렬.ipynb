{
 "cells": [
  {
   "cell_type": "code",
   "execution_count": 34,
   "metadata": {},
   "outputs": [
    {
     "name": "stdout",
     "output_type": "stream",
     "text": [
      "K1KA5CB7\n",
      "ABCKK13\n"
     ]
    }
   ],
   "source": [
    "string=input()\n",
    "\n",
    "string=list(string)  #리스트로 \n",
    "\n",
    "alp=[]\n",
    "num=[]\n",
    "\n",
    "#숫자, 문자열 구분하기\n",
    "\n",
    "for i in string:\n",
    "    if ord(str(i))<=57:  #숫자 아스키코드 48~57\n",
    "        num.append(i)\n",
    "    else: alp.append(i)\n",
    "        \n",
    "#오름차순 정렬\n",
    "alp.sort()\n",
    "num.sort()\n",
    "\n",
    "#알파벳 하나의 문자열로 합치기\n",
    "final=''\n",
    "for i in alp:\n",
    "    final+=i\n",
    "\n",
    "sum=0\n",
    "for i in num:\n",
    "    sum+=int(i)\n",
    "\n",
    "#알파벳과 숫자합 합치기\n",
    "final+=str(sum)\n",
    "print(final)"
   ]
  },
  {
   "cell_type": "code",
   "execution_count": 33,
   "metadata": {},
   "outputs": [
    {
     "data": {
      "text/plain": [
       "['2', '3']"
      ]
     },
     "execution_count": 33,
     "metadata": {},
     "output_type": "execute_result"
    }
   ],
   "source": [
    "import re\n",
    "\n",
    "string='ABF23'\n",
    "\n",
    "\n",
    "numbers = re.findall(r'\\d', string) #r'\\d': 1개의 숫자 (숫자만 추출하여 리스트로)\n",
    "\n",
    "numbers"
   ]
  }
 ],
 "metadata": {
  "kernelspec": {
   "display_name": "Python 3",
   "language": "python",
   "name": "python3"
  },
  "language_info": {
   "codemirror_mode": {
    "name": "ipython",
    "version": 3
   },
   "file_extension": ".py",
   "mimetype": "text/x-python",
   "name": "python",
   "nbconvert_exporter": "python",
   "pygments_lexer": "ipython3",
   "version": "3.8.5"
  }
 },
 "nbformat": 4,
 "nbformat_minor": 4
}
