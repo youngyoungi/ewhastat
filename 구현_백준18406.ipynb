{
 "cells": [
  {
   "cell_type": "markdown",
   "metadata": {},
   "source": [
    "### 구현7: 럭키 스트레이트 (백준 18406)"
   ]
  },
  {
   "cell_type": "code",
   "execution_count": 19,
   "metadata": {},
   "outputs": [
    {
     "name": "stdout",
     "output_type": "stream",
     "text": [
      "123402\n",
      "LUCKY\n"
     ]
    }
   ],
   "source": [
    "n=int(input())  #점수 N 입력\n",
    "len_n=len(str(n)) #N 길이 \n",
    "mid=int(len_n/2)  #N 반으로 나누기 위한 index\n",
    "\n",
    "\n",
    "left_sum=0\n",
    "right_sum=0\n",
    "\n",
    "for i in range(mid):\n",
    "    left_sum+=int(str(n)[i])\n",
    "\n",
    "for i in range(mid,len_n):\n",
    "    right_sum+=int(str(n)[i])\n",
    "\n",
    "if left_sum==right_sum:\n",
    "    print('LUCKY')\n",
    "else: \n",
    "    print('READY')"
   ]
  }
 ],
 "metadata": {
  "kernelspec": {
   "display_name": "Python 3",
   "language": "python",
   "name": "python3"
  },
  "language_info": {
   "codemirror_mode": {
    "name": "ipython",
    "version": 3
   },
   "file_extension": ".py",
   "mimetype": "text/x-python",
   "name": "python",
   "nbconvert_exporter": "python",
   "pygments_lexer": "ipython3",
   "version": "3.8.5"
  }
 },
 "nbformat": 4,
 "nbformat_minor": 4
}
