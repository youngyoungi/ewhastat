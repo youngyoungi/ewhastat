{
 "cells": [
  {
   "cell_type": "code",
   "execution_count": 8,
   "metadata": {
    "scrolled": false
   },
   "outputs": [
    {
     "name": "stdout",
     "output_type": "stream",
     "text": [
      "7\n",
      "6\n",
      "12\n",
      "23\n",
      "15\n",
      "52\n",
      "56\n",
      "47\n"
     ]
    }
   ],
   "source": [
    "n=int(input())  #100이하 컴퓨터 수 입력\n",
    "c=int(input())  #직접 연결되어있는 컴퓨터 쌍의 수\n",
    "\n",
    "graph=[]\n",
    "for i in range(c):\n",
    "    graph.append(list(map(int,input().split())))"
   ]
  },
  {
   "cell_type": "code",
   "execution_count": 9,
   "metadata": {},
   "outputs": [
    {
     "name": "stdout",
     "output_type": "stream",
     "text": [
      "[[1, 2], [2, 3], [1, 5], [5, 2], [5, 6], [4, 7]]\n"
     ]
    }
   ],
   "source": [
    "print(graph)"
   ]
  },
  {
   "cell_type": "code",
   "execution_count": 23,
   "metadata": {
    "scrolled": true
   },
   "outputs": [
    {
     "name": "stdout",
     "output_type": "stream",
     "text": [
      "[[], [2, 5], [1, 3, 5], [2], [7], [1, 2, 6], [5], [4]]\n"
     ]
    }
   ],
   "source": [
    "#인접 리스트(2차원 리스트) 만들기\n",
    "graph2 = [[] * n for i in range(n+1)]  #제일 첫 줄은 빈 리스트이므로 range(n+1)\n",
    "\n",
    "\n",
    "for j in range(n+1):  #컴퓨터 1~7 1부터 고려\n",
    "    for i in range(c):  #입력받은 연결되는 컴퓨터 쌍 1~6 첫번째 쌍부터 고려\n",
    "        if j in graph[i]:  # 쌍들 중 j와 연결되어있는 쌍 찾아서\n",
    "            for k in graph[i]: #그 중 j 아닌 컴퓨터 번호를 graph2 j번째 줄에 append\n",
    "                if k!=j: graph2[j].append(k)\n",
    "\n",
    "print(graph2)  "
   ]
  },
  {
   "cell_type": "code",
   "execution_count": 24,
   "metadata": {},
   "outputs": [],
   "source": [
    "ll=[]\n",
    "def dfs(graph,v,visited):\n",
    "    visited[v]=True #현재 위치 방문처리(바이러스)\n",
    "    ll.append(v) #방문처리한 위치 스택에 삽입\n",
    "    for i in graph[v]:  #현재 위치와 연결된 노드들 중\n",
    "        if not visited[i]:  #방문 안한 노드(숫자 작운 순으로) 부터 \n",
    "            dfs(graph,i,visited)"
   ]
  },
  {
   "cell_type": "code",
   "execution_count": 25,
   "metadata": {},
   "outputs": [
    {
     "name": "stdout",
     "output_type": "stream",
     "text": [
      "4\n"
     ]
    }
   ],
   "source": [
    "visited=[False]*(n+1)  #방문 정보 초기화\n",
    "dfs(graph2,1,visited)\n",
    "print(len(ll)-1)  #1번으로부터 걸린 컴퓨터의 수니까 -1"
   ]
  },
  {
   "cell_type": "code",
   "execution_count": 33,
   "metadata": {
    "scrolled": true
   },
   "outputs": [
    {
     "name": "stdout",
     "output_type": "stream",
     "text": [
      "7\n",
      "6\n",
      "1 2\n",
      "2 3\n",
      "1 5\n",
      "5 2\n",
      "5 6\n",
      "4 7\n",
      "4\n"
     ]
    }
   ],
   "source": [
    "#제출용\n",
    "\n",
    "n=int(input())  \n",
    "c=int(input())  \n",
    "\n",
    "graph=[]\n",
    "for i in range(c):\n",
    "    graph.append(list(map(int,input().split())))\n",
    "\n",
    "graph2 = [[] * n for i in range(n+1)]\n",
    "\n",
    "\n",
    "for j in range(n+1):\n",
    "    for i in range(c):\n",
    "        if j in graph[i]: \n",
    "            for k in graph[i]:\n",
    "                if k!=j: graph2[j].append(k)\n",
    "\n",
    "ll=[]\n",
    "def dfs(graph,v,visited):\n",
    "    visited[v]=True \n",
    "    ll.append(v) \n",
    "    for i in graph[v]: \n",
    "        if not visited[i]:  \n",
    "            dfs(graph,i,visited)\n",
    "\n",
    "visited=[False]*(n+1)  \n",
    "dfs(graph2,1,visited)\n",
    "print(len(ll)-1)"
   ]
  }
 ],
 "metadata": {
  "kernelspec": {
   "display_name": "Python 3",
   "language": "python",
   "name": "python3"
  },
  "language_info": {
   "codemirror_mode": {
    "name": "ipython",
    "version": 3
   },
   "file_extension": ".py",
   "mimetype": "text/x-python",
   "name": "python",
   "nbconvert_exporter": "python",
   "pygments_lexer": "ipython3",
   "version": "3.8.5"
  }
 },
 "nbformat": 4,
 "nbformat_minor": 4
}
