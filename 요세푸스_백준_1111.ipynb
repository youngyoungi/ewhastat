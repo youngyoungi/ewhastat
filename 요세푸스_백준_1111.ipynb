{
 "cells": [
  {
   "cell_type": "markdown",
   "metadata": {},
   "source": [
    "- 방법1"
   ]
  },
  {
   "cell_type": "code",
   "execution_count": 38,
   "metadata": {
    "scrolled": false
   },
   "outputs": [
    {
     "name": "stdout",
     "output_type": "stream",
     "text": [
      "7 3\n",
      "<3, 6, 2, 7, 5, 1, 4>"
     ]
    }
   ],
   "source": [
    "n,k=map(int,input().split())\n",
    "circle=list(range(1,n+1))\n",
    "\n",
    "ll=[]\n",
    "start=0\n",
    "while True:\n",
    "    if len(circle)==0:\n",
    "        break\n",
    "    ing=start+k-1  \n",
    "    ing2=ing%len(circle)  \n",
    "    ll.append(circle[ing2])  \n",
    "    circle.pop(ing2)\n",
    "    start=ing2\n",
    "    \n",
    "print('<',end='')\n",
    "print(*ll,sep=',',end='')\n",
    "print('>',end='')"
   ]
  },
  {
   "cell_type": "markdown",
   "metadata": {},
   "source": [
    "- 방법2\n",
    "  - 큐 사용"
   ]
  },
  {
   "cell_type": "code",
   "execution_count": 49,
   "metadata": {},
   "outputs": [
    {
     "name": "stdout",
     "output_type": "stream",
     "text": [
      "7 3\n",
      "<3, 6, 2, 7, 5, 1, 4>"
     ]
    }
   ],
   "source": [
    "from collections import deque\n",
    "\n",
    "n,k=map(int,input().split())\n",
    "\n",
    "circle=deque()\n",
    "for i in range(1,n+1):\n",
    "    circle.append(i)\n",
    "\n",
    "print('<',end='')\n",
    "\n",
    "while circle: #circle 빌 때까지 계속\n",
    "    for i in range(k-1):\n",
    "        circle.append(circle[0])\n",
    "        circle.popleft()   #2번째까지 제거\n",
    "    print(circle.popleft(),end='') #딱 3번째 숫자 print하고 제거됨\n",
    "    if circle:\n",
    "        print(', ',end='')\n",
    "print('>',end='')"
   ]
  }
 ],
 "metadata": {
  "kernelspec": {
   "display_name": "Python 3",
   "language": "python",
   "name": "python3"
  },
  "language_info": {
   "codemirror_mode": {
    "name": "ipython",
    "version": 3
   },
   "file_extension": ".py",
   "mimetype": "text/x-python",
   "name": "python",
   "nbconvert_exporter": "python",
   "pygments_lexer": "ipython3",
   "version": "3.8.5"
  }
 },
 "nbformat": 4,
 "nbformat_minor": 4
}
