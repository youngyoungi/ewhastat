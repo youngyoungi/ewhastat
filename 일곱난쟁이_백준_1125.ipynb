{
 "cells": [
  {
   "cell_type": "code",
   "execution_count": 5,
   "metadata": {},
   "outputs": [],
   "source": [
    "import numpy as np"
   ]
  },
  {
   "cell_type": "code",
   "execution_count": 52,
   "metadata": {},
   "outputs": [
    {
     "name": "stdout",
     "output_type": "stream",
     "text": [
      "20\n",
      "7\n",
      "23\n",
      "19\n",
      "10\n",
      "15\n",
      "25\n",
      "8\n",
      "13\n",
      "7\n",
      "8\n",
      "10\n",
      "13\n",
      "19\n",
      "20\n",
      "23\n"
     ]
    }
   ],
   "source": [
    "#9명의 난쟁이 키 list로 입력받기\n",
    "nans =[]\n",
    "for i in range(9):\n",
    "    num = int(input())\n",
    "    nans.append(num)\n",
    "\n",
    "\n",
    "#앞에서 2개씩 잡아서 전체 합에서 빼보기. 차기 100이면 그 둘 list에서 제거 후 list sort\n",
    "for i in range(9):\n",
    "    for j in range(i+1,9):\n",
    "        if sum(nans)-nans[i]-nans[j]==100:\n",
    "            a=nans[i]\n",
    "            b=nans[j]\n",
    "            nans.remove(a)\n",
    "            nans.remove(b)\n",
    "            nans.sort()\n",
    "            break\n",
    "    \n",
    "    #난쟁이 둘 찾았으면 break하게 하는 if문\n",
    "    if len(nans)<9:    \n",
    "        break\n",
    "\n",
    "#sort된 list 출력\n",
    "for i in range(7):\n",
    "    print(nans[i])"
   ]
  }
 ],
 "metadata": {
  "kernelspec": {
   "display_name": "Python 3",
   "language": "python",
   "name": "python3"
  },
  "language_info": {
   "codemirror_mode": {
    "name": "ipython",
    "version": 3
   },
   "file_extension": ".py",
   "mimetype": "text/x-python",
   "name": "python",
   "nbconvert_exporter": "python",
   "pygments_lexer": "ipython3",
   "version": "3.8.5"
  }
 },
 "nbformat": 4,
 "nbformat_minor": 4
}
