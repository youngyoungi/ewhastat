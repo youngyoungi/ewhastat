{
  "nbformat": 4,
  "nbformat_minor": 0,
  "metadata": {
    "colab": {
      "name": "자분특플젝_제출용",
      "provenance": [],
      "collapsed_sections": [
        "e_l-3czf9yEz"
      ],
      "toc_visible": true
    },
    "kernelspec": {
      "name": "python3",
      "display_name": "Python 3"
    },
    "language_info": {
      "name": "python"
    },
    "accelerator": "GPU"
  },
  "cells": [
    {
      "cell_type": "markdown",
      "metadata": {
        "id": "-6We6zbCOQYh"
      },
      "source": [
        "# 자분특기말플젝 212STG25 이채영 코드파일"
      ]
    },
    {
      "cell_type": "markdown",
      "metadata": {
        "id": "USoi3ftXsScE"
      },
      "source": [
        "### 코랩 준비"
      ]
    },
    {
      "cell_type": "code",
      "metadata": {
        "colab": {
          "base_uri": "https://localhost:8080/"
        },
        "id": "Q5MEDRKX8lfC",
        "outputId": "3eb0fffa-9b16-4f83-d71e-d07b110e0ccd"
      },
      "source": [
        "# 구글 드라이브 연결\n",
        "from google.colab import drive\n",
        "drive.mount('/content/drive/', force_remount=True)"
      ],
      "execution_count": null,
      "outputs": [
        {
          "output_type": "stream",
          "name": "stdout",
          "text": [
            "Mounted at /content/drive/\n"
          ]
        }
      ]
    },
    {
      "cell_type": "code",
      "metadata": {
        "id": "E9VehWXF81dY"
      },
      "source": [
        "# 기본 라이브러리 import\n",
        "import pandas as pd \n",
        "import numpy as np\n",
        "from datetime import * \n",
        "\n",
        "import matplotlib.pyplot as plt\n",
        "import seaborn as sns\n",
        "%matplotlib inline\n",
        "\n",
        "import re\n",
        "import urllib.request"
      ],
      "execution_count": null,
      "outputs": []
    },
    {
      "cell_type": "code",
      "metadata": {
        "colab": {
          "base_uri": "https://localhost:8080/",
          "height": 36
        },
        "id": "rY5J-FYH9Cwz",
        "outputId": "e41a3902-b3f4-460e-dc2a-556aad8a7277"
      },
      "source": [
        "# 경로 설정    \n",
        "import os\n",
        "\n",
        "os.chdir('/content/drive/My Drive')\n",
        "os.getcwd()"
      ],
      "execution_count": null,
      "outputs": [
        {
          "output_type": "execute_result",
          "data": {
            "application/vnd.google.colaboratory.intrinsic+json": {
              "type": "string"
            },
            "text/plain": [
              "'/content/drive/My Drive'"
            ]
          },
          "metadata": {},
          "execution_count": 5
        }
      ]
    },
    {
      "cell_type": "markdown",
      "metadata": {
        "id": "zGtojjz4Ld4T"
      },
      "source": [
        "# PART1"
      ]
    },
    {
      "cell_type": "markdown",
      "metadata": {
        "id": "6M9bQnqJNA2Q"
      },
      "source": [
        "### import"
      ]
    },
    {
      "cell_type": "code",
      "metadata": {
        "id": "7eASMq1YLkg3"
      },
      "source": [
        "# 모델링 라이브러리 import\n",
        "from sklearn.model_selection import train_test_split\n",
        "from sklearn.ensemble import RandomForestRegressor\n",
        "from sklearn.model_selection import cross_val_score  \n",
        "from sklearn.metrics import mean_squared_error \n",
        "import xgboost as xgb\n",
        "import lightgbm as lgb\n",
        "from xgboost import plot_importance, plot_tree\n",
        "import sklearn\n",
        "from sklearn.tree import DecisionTreeRegressor\n",
        "from sklearn.ensemble import GradientBoostingRegressor\n",
        "import matplotlib.cm as cm"
      ],
      "execution_count": null,
      "outputs": []
    },
    {
      "cell_type": "markdown",
      "metadata": {
        "id": "-fjKIwVKNcSi"
      },
      "source": [
        "### 데이터 불러오기"
      ]
    },
    {
      "cell_type": "code",
      "metadata": {
        "id": "rZMIIo4LNT6x"
      },
      "source": [
        "def load_data(datapath):\n",
        "    data = pd.read_csv(datapath)\n",
        "    print('Shape:', data.shape)\n",
        "    display(data.sample(10))\n",
        "    return data\n",
        "    \n",
        "    \n",
        "data = load_data(\"OnlineNewsPopularity.csv\")"
      ],
      "execution_count": null,
      "outputs": []
    },
    {
      "cell_type": "code",
      "metadata": {
        "id": "IQHV6-ZANV0B"
      },
      "source": [
        "data=data.drop(['url',' timedelta'],axis=1)\n",
        "data.target=data[' shares']\n",
        "data.x=data.drop([' shares'],axis=1)"
      ],
      "execution_count": null,
      "outputs": []
    },
    {
      "cell_type": "code",
      "metadata": {
        "id": "6VH0ZzUtNXfa"
      },
      "source": [
        "# train, test 나누기\n",
        "x_train, x_test, y_train, y_test=train_test_split(data.x, data.target, test_size=0.2, random_state=42)\n",
        "\n",
        "#train을 다시 train과 validation set로 나누기\n",
        "x_train, x_val, y_train, y_val=train_test_split(x_train,y_train, test_size=0.2, random_state=42)"
      ],
      "execution_count": null,
      "outputs": []
    },
    {
      "cell_type": "markdown",
      "metadata": {
        "id": "XGDV95qgPnv6"
      },
      "source": [
        "### linear regression"
      ]
    },
    {
      "cell_type": "code",
      "metadata": {
        "colab": {
          "base_uri": "https://localhost:8080/"
        },
        "id": "n9di_b46OtW6",
        "outputId": "efe3eecb-28e6-448b-a4f0-3b96a61c1e9b"
      },
      "source": [
        "from sklearn.linear_model import LinearRegression\n",
        "lin_reg=LinearRegression()\n",
        "lin_reg.fit(x_train,y_train)\n",
        "\n",
        "y_pred=lin_reg.predict(x_val)\n",
        "lin_mse=mean_squared_error(y_pred,y_val)\n",
        "lin_rmse=np.sqrt(lin_mse)\n",
        "lin_rmse"
      ],
      "execution_count": null,
      "outputs": [
        {
          "output_type": "execute_result",
          "data": {
            "text/plain": [
              "11230.644454147696"
            ]
          },
          "metadata": {},
          "execution_count": 13
        }
      ]
    },
    {
      "cell_type": "code",
      "metadata": {
        "id": "Ksds1ym-L-iL"
      },
      "source": [
        ""
      ],
      "execution_count": null,
      "outputs": []
    },
    {
      "cell_type": "code",
      "metadata": {
        "id": "o5ustgN_L-aw"
      },
      "source": [
        ""
      ],
      "execution_count": null,
      "outputs": []
    },
    {
      "cell_type": "code",
      "metadata": {
        "id": "dTqtUQJfL-Br"
      },
      "source": [
        ""
      ],
      "execution_count": null,
      "outputs": []
    },
    {
      "cell_type": "code",
      "metadata": {
        "id": "a-sg9KiUL8OD"
      },
      "source": [
        ""
      ],
      "execution_count": null,
      "outputs": []
    },
    {
      "cell_type": "markdown",
      "metadata": {
        "id": "OFafX158V1dQ"
      },
      "source": [
        "### DecisionTreeRegressor"
      ]
    },
    {
      "cell_type": "code",
      "metadata": {
        "colab": {
          "base_uri": "https://localhost:8080/"
        },
        "id": "kOkfZx84QMzL",
        "outputId": "2d5f9fef-9cbe-4280-97a5-b21ad54900a3"
      },
      "source": [
        "from sklearn.tree import DecisionTreeRegressor\n",
        "tree_reg=DecisionTreeRegressor()\n",
        "tree_reg.fit(x_train,y_train)\n",
        "\n",
        "y_pred=tree_reg.predict(x_val)\n",
        "tree_mse=mean_squared_error(y_pred,y_val)\n",
        "tree_rmse=np.sqrt(tree_mse)\n",
        "tree_rmse"
      ],
      "execution_count": null,
      "outputs": [
        {
          "output_type": "execute_result",
          "data": {
            "text/plain": [
              "19126.21973895826"
            ]
          },
          "metadata": {},
          "execution_count": 45
        }
      ]
    },
    {
      "cell_type": "code",
      "metadata": {
        "colab": {
          "base_uri": "https://localhost:8080/"
        },
        "id": "DA1jYVeRmuj7",
        "outputId": "7dacacc6-e130-49af-8f8e-3f4b611d7a29"
      },
      "source": [
        "from sklearn.model_selection import RandomizedSearchCV\n",
        "#parameter tuning\n",
        "\n",
        "param_grid={\"max_depth\" : [1,3,5,7,9,11,12],\n",
        "           \"min_samples_leaf\":[1,2,3,4,5,6,7,8,9,10],\n",
        "           \"max_features\":[\"auto\",\"log2\",\"sqrt\",None],\n",
        "           \"max_leaf_nodes\":[None,10,20,30,40,50,60,70,80,90] }\n",
        "\n",
        "tree_reg=DecisionTreeRegressor()\n",
        "\n",
        "grid_search=RandomizedSearchCV(tree_reg,param_grid,cv=3,n_iter=50,random_state=42,scoring='neg_mean_squared_error',return_train_score=True,verbose=3)\n",
        "\n",
        "grid_search.fit(x_train,y_train)"
      ],
      "execution_count": null,
      "outputs": [
        {
          "output_type": "stream",
          "name": "stdout",
          "text": [
            "Fitting 3 folds for each of 50 candidates, totalling 150 fits\n",
            "[CV 1/3] END max_depth=5, max_features=sqrt, max_leaf_nodes=80, min_samples_leaf=9;, score=(train=-107969438.964, test=-195848664.826) total time=   0.1s\n",
            "[CV 2/3] END max_depth=5, max_features=sqrt, max_leaf_nodes=80, min_samples_leaf=9;, score=(train=-125001240.237, test=-162689943.936) total time=   0.1s\n",
            "[CV 3/3] END max_depth=5, max_features=sqrt, max_leaf_nodes=80, min_samples_leaf=9;, score=(train=-162770741.834, test=-83099235.896) total time=   0.0s\n",
            "[CV 1/3] END max_depth=3, max_features=None, max_leaf_nodes=70, min_samples_leaf=3;, score=(train=-106969085.073, test=-194925539.451) total time=   0.2s\n",
            "[CV 2/3] END max_depth=3, max_features=None, max_leaf_nodes=70, min_samples_leaf=3;, score=(train=-126529768.795, test=-163276753.544) total time=   0.2s\n",
            "[CV 3/3] END max_depth=3, max_features=None, max_leaf_nodes=70, min_samples_leaf=3;, score=(train=-154444024.802, test=-96973020.151) total time=   0.2s\n",
            "[CV 1/3] END max_depth=11, max_features=log2, max_leaf_nodes=60, min_samples_leaf=2;, score=(train=-79696504.863, test=-261768197.297) total time=   0.0s\n",
            "[CV 2/3] END max_depth=11, max_features=log2, max_leaf_nodes=60, min_samples_leaf=2;, score=(train=-86933285.558, test=-173015831.443) total time=   0.0s\n",
            "[CV 3/3] END max_depth=11, max_features=log2, max_leaf_nodes=60, min_samples_leaf=2;, score=(train=-104233346.602, test=-204208647.937) total time=   0.0s\n",
            "[CV 1/3] END max_depth=5, max_features=None, max_leaf_nodes=90, min_samples_leaf=3;, score=(train=-101361099.360, test=-197902144.555) total time=   0.3s\n",
            "[CV 2/3] END max_depth=5, max_features=None, max_leaf_nodes=90, min_samples_leaf=3;, score=(train=-104096490.236, test=-220060162.917) total time=   0.3s\n",
            "[CV 3/3] END max_depth=5, max_features=None, max_leaf_nodes=90, min_samples_leaf=3;, score=(train=-139034948.254, test=-97273009.606) total time=   0.3s\n",
            "[CV 1/3] END max_depth=9, max_features=None, max_leaf_nodes=10, min_samples_leaf=7;, score=(train=-107387347.698, test=-192447279.990) total time=   0.3s\n",
            "[CV 2/3] END max_depth=9, max_features=None, max_leaf_nodes=10, min_samples_leaf=7;, score=(train=-119454320.164, test=-181840226.217) total time=   0.2s\n",
            "[CV 3/3] END max_depth=9, max_features=None, max_leaf_nodes=10, min_samples_leaf=7;, score=(train=-157365494.862, test=-84040506.720) total time=   0.2s\n",
            "[CV 1/3] END max_depth=9, max_features=auto, max_leaf_nodes=10, min_samples_leaf=5;, score=(train=-107264219.627, test=-192522108.806) total time=   0.3s\n",
            "[CV 2/3] END max_depth=9, max_features=auto, max_leaf_nodes=10, min_samples_leaf=5;, score=(train=-117137903.214, test=-173884097.294) total time=   0.2s\n",
            "[CV 3/3] END max_depth=9, max_features=auto, max_leaf_nodes=10, min_samples_leaf=5;, score=(train=-152611048.401, test=-84348292.233) total time=   0.2s\n",
            "[CV 1/3] END max_depth=7, max_features=log2, max_leaf_nodes=90, min_samples_leaf=10;, score=(train=-106856688.300, test=-198647579.041) total time=   0.1s\n",
            "[CV 2/3] END max_depth=7, max_features=log2, max_leaf_nodes=90, min_samples_leaf=10;, score=(train=-117106658.571, test=-168988932.389) total time=   0.1s\n",
            "[CV 3/3] END max_depth=7, max_features=log2, max_leaf_nodes=90, min_samples_leaf=10;, score=(train=-151670174.060, test=-90016212.766) total time=   0.1s\n",
            "[CV 1/3] END max_depth=7, max_features=sqrt, max_leaf_nodes=60, min_samples_leaf=2;, score=(train=-81220942.632, test=-236259044.330) total time=   0.1s\n",
            "[CV 2/3] END max_depth=7, max_features=sqrt, max_leaf_nodes=60, min_samples_leaf=2;, score=(train=-85575232.699, test=-185616112.923) total time=   0.1s\n",
            "[CV 3/3] END max_depth=7, max_features=sqrt, max_leaf_nodes=60, min_samples_leaf=2;, score=(train=-122582376.375, test=-120825256.021) total time=   0.1s\n",
            "[CV 1/3] END max_depth=11, max_features=sqrt, max_leaf_nodes=20, min_samples_leaf=3;, score=(train=-97768087.492, test=-219660081.129) total time=   0.1s\n",
            "[CV 2/3] END max_depth=11, max_features=sqrt, max_leaf_nodes=20, min_samples_leaf=3;, score=(train=-104235974.035, test=-179364689.976) total time=   0.0s\n",
            "[CV 3/3] END max_depth=11, max_features=sqrt, max_leaf_nodes=20, min_samples_leaf=3;, score=(train=-119107658.622, test=-199338961.629) total time=   0.0s\n",
            "[CV 1/3] END max_depth=5, max_features=None, max_leaf_nodes=10, min_samples_leaf=5;, score=(train=-107651792.884, test=-190822453.810) total time=   0.3s\n",
            "[CV 2/3] END max_depth=5, max_features=None, max_leaf_nodes=10, min_samples_leaf=5;, score=(train=-117137903.214, test=-173884097.294) total time=   0.2s\n",
            "[CV 3/3] END max_depth=5, max_features=None, max_leaf_nodes=10, min_samples_leaf=5;, score=(train=-154238399.299, test=-81612758.086) total time=   0.2s\n",
            "[CV 1/3] END max_depth=12, max_features=auto, max_leaf_nodes=None, min_samples_leaf=7;, score=(train=-92596412.806, test=-204364705.736) total time=   0.7s\n",
            "[CV 2/3] END max_depth=12, max_features=auto, max_leaf_nodes=None, min_samples_leaf=7;, score=(train=-101568955.216, test=-199587637.414) total time=   0.7s\n",
            "[CV 3/3] END max_depth=12, max_features=auto, max_leaf_nodes=None, min_samples_leaf=7;, score=(train=-140508538.500, test=-98306009.299) total time=   0.7s\n",
            "[CV 1/3] END max_depth=12, max_features=log2, max_leaf_nodes=90, min_samples_leaf=10;, score=(train=-104709863.593, test=-195772440.634) total time=   0.1s\n",
            "[CV 2/3] END max_depth=12, max_features=log2, max_leaf_nodes=90, min_samples_leaf=10;, score=(train=-115509628.685, test=-174998965.482) total time=   0.1s\n",
            "[CV 3/3] END max_depth=12, max_features=log2, max_leaf_nodes=90, min_samples_leaf=10;, score=(train=-155016957.933, test=-94358334.654) total time=   0.1s\n",
            "[CV 1/3] END max_depth=11, max_features=auto, max_leaf_nodes=40, min_samples_leaf=5;, score=(train=-98138763.704, test=-202668754.145) total time=   0.4s\n",
            "[CV 2/3] END max_depth=11, max_features=auto, max_leaf_nodes=40, min_samples_leaf=5;, score=(train=-105728277.353, test=-189774720.552) total time=   0.3s\n",
            "[CV 3/3] END max_depth=11, max_features=auto, max_leaf_nodes=40, min_samples_leaf=5;, score=(train=-139411983.621, test=-97907330.971) total time=   0.3s\n",
            "[CV 1/3] END max_depth=5, max_features=sqrt, max_leaf_nodes=10, min_samples_leaf=2;, score=(train=-99095134.810, test=-213644025.151) total time=   0.0s\n",
            "[CV 2/3] END max_depth=5, max_features=sqrt, max_leaf_nodes=10, min_samples_leaf=2;, score=(train=-114468137.427, test=-189196076.326) total time=   0.0s\n",
            "[CV 3/3] END max_depth=5, max_features=sqrt, max_leaf_nodes=10, min_samples_leaf=2;, score=(train=-162857127.243, test=-81369147.635) total time=   0.0s\n",
            "[CV 1/3] END max_depth=11, max_features=log2, max_leaf_nodes=None, min_samples_leaf=9;, score=(train=-102056369.169, test=-200561892.881) total time=   0.1s\n",
            "[CV 2/3] END max_depth=11, max_features=log2, max_leaf_nodes=None, min_samples_leaf=9;, score=(train=-115076639.455, test=-174001022.065) total time=   0.1s\n",
            "[CV 3/3] END max_depth=11, max_features=log2, max_leaf_nodes=None, min_samples_leaf=9;, score=(train=-149264636.365, test=-91752334.247) total time=   0.1s\n",
            "[CV 1/3] END max_depth=3, max_features=auto, max_leaf_nodes=50, min_samples_leaf=8;, score=(train=-111522327.236, test=-189191723.135) total time=   0.2s\n",
            "[CV 2/3] END max_depth=3, max_features=auto, max_leaf_nodes=50, min_samples_leaf=8;, score=(train=-126968356.723, test=-161901746.206) total time=   0.2s\n",
            "[CV 3/3] END max_depth=3, max_features=auto, max_leaf_nodes=50, min_samples_leaf=8;, score=(train=-165356432.130, test=-81865432.298) total time=   0.2s\n",
            "[CV 1/3] END max_depth=3, max_features=sqrt, max_leaf_nodes=70, min_samples_leaf=10;, score=(train=-116324620.570, test=-185171121.901) total time=   0.0s\n",
            "[CV 2/3] END max_depth=3, max_features=sqrt, max_leaf_nodes=70, min_samples_leaf=10;, score=(train=-129852712.882, test=-161180874.879) total time=   0.0s\n",
            "[CV 3/3] END max_depth=3, max_features=sqrt, max_leaf_nodes=70, min_samples_leaf=10;, score=(train=-170795042.528, test=-75324234.907) total time=   0.0s\n",
            "[CV 1/3] END max_depth=12, max_features=sqrt, max_leaf_nodes=30, min_samples_leaf=4;, score=(train=-98619977.182, test=-203500614.838) total time=   0.1s\n",
            "[CV 2/3] END max_depth=12, max_features=sqrt, max_leaf_nodes=30, min_samples_leaf=4;, score=(train=-102412590.573, test=-200385554.035) total time=   0.1s\n",
            "[CV 3/3] END max_depth=12, max_features=sqrt, max_leaf_nodes=30, min_samples_leaf=4;, score=(train=-145138047.163, test=-81759387.475) total time=   0.1s\n",
            "[CV 1/3] END max_depth=1, max_features=None, max_leaf_nodes=20, min_samples_leaf=2;, score=(train=-117329982.529, test=-185945756.949) total time=   0.1s\n",
            "[CV 2/3] END max_depth=1, max_features=None, max_leaf_nodes=20, min_samples_leaf=2;, score=(train=-129863751.528, test=-160365518.487) total time=   0.1s\n",
            "[CV 3/3] END max_depth=1, max_features=None, max_leaf_nodes=20, min_samples_leaf=2;, score=(train=-172561354.372, test=-75130135.826) total time=   0.1s\n",
            "[CV 1/3] END max_depth=5, max_features=sqrt, max_leaf_nodes=90, min_samples_leaf=10;, score=(train=-114821555.190, test=-185319567.414) total time=   0.1s\n",
            "[CV 2/3] END max_depth=5, max_features=sqrt, max_leaf_nodes=90, min_samples_leaf=10;, score=(train=-121821562.024, test=-164322126.979) total time=   0.1s\n",
            "[CV 3/3] END max_depth=5, max_features=sqrt, max_leaf_nodes=90, min_samples_leaf=10;, score=(train=-166004351.990, test=-79014889.323) total time=   0.1s\n",
            "[CV 1/3] END max_depth=7, max_features=log2, max_leaf_nodes=70, min_samples_leaf=1;, score=(train=-49195160.400, test=-297040210.395) total time=   0.1s\n",
            "[CV 2/3] END max_depth=7, max_features=log2, max_leaf_nodes=70, min_samples_leaf=1;, score=(train=-104619837.291, test=-194483197.479) total time=   0.1s\n",
            "[CV 3/3] END max_depth=7, max_features=log2, max_leaf_nodes=70, min_samples_leaf=1;, score=(train=-120716722.478, test=-88928803.628) total time=   0.1s\n",
            "[CV 1/3] END max_depth=7, max_features=None, max_leaf_nodes=30, min_samples_leaf=3;, score=(train=-90512665.137, test=-213783377.500) total time=   0.3s\n",
            "[CV 2/3] END max_depth=7, max_features=None, max_leaf_nodes=30, min_samples_leaf=3;, score=(train=-98838221.019, test=-225795307.345) total time=   0.3s\n",
            "[CV 3/3] END max_depth=7, max_features=None, max_leaf_nodes=30, min_samples_leaf=3;, score=(train=-130631589.308, test=-101770361.238) total time=   0.3s\n",
            "[CV 1/3] END max_depth=3, max_features=auto, max_leaf_nodes=None, min_samples_leaf=3;, score=(train=-106969085.073, test=-194925539.451) total time=   0.2s\n",
            "[CV 2/3] END max_depth=3, max_features=auto, max_leaf_nodes=None, min_samples_leaf=3;, score=(train=-126529768.795, test=-163276753.544) total time=   0.2s\n",
            "[CV 3/3] END max_depth=3, max_features=auto, max_leaf_nodes=None, min_samples_leaf=3;, score=(train=-154444024.802, test=-97350222.468) total time=   0.2s\n",
            "[CV 1/3] END max_depth=7, max_features=log2, max_leaf_nodes=40, min_samples_leaf=10;, score=(train=-106567940.954, test=-196546767.008) total time=   0.0s\n",
            "[CV 2/3] END max_depth=7, max_features=log2, max_leaf_nodes=40, min_samples_leaf=10;, score=(train=-118377186.637, test=-169801234.178) total time=   0.0s\n",
            "[CV 3/3] END max_depth=7, max_features=log2, max_leaf_nodes=40, min_samples_leaf=10;, score=(train=-162642440.180, test=-81383371.917) total time=   0.1s\n",
            "[CV 1/3] END max_depth=3, max_features=None, max_leaf_nodes=None, min_samples_leaf=1;, score=(train=-89848129.388, test=-235039898.697) total time=   0.2s\n",
            "[CV 2/3] END max_depth=3, max_features=None, max_leaf_nodes=None, min_samples_leaf=1;, score=(train=-126529768.795, test=-163276753.544) total time=   0.2s\n",
            "[CV 3/3] END max_depth=3, max_features=None, max_leaf_nodes=None, min_samples_leaf=1;, score=(train=-123616645.493, test=-119650891.691) total time=   0.2s\n",
            "[CV 1/3] END max_depth=3, max_features=auto, max_leaf_nodes=30, min_samples_leaf=4;, score=(train=-109408587.553, test=-189923116.984) total time=   0.2s\n",
            "[CV 2/3] END max_depth=3, max_features=auto, max_leaf_nodes=30, min_samples_leaf=4;, score=(train=-126529768.795, test=-163276753.544) total time=   0.2s\n",
            "[CV 3/3] END max_depth=3, max_features=auto, max_leaf_nodes=30, min_samples_leaf=4;, score=(train=-161916240.511, test=-86204074.370) total time=   0.2s\n",
            "[CV 1/3] END max_depth=12, max_features=auto, max_leaf_nodes=90, min_samples_leaf=10;, score=(train=-100301964.519, test=-198554455.588) total time=   0.5s\n",
            "[CV 2/3] END max_depth=12, max_features=auto, max_leaf_nodes=90, min_samples_leaf=10;, score=(train=-110966939.024, test=-181592116.597) total time=   0.4s\n",
            "[CV 3/3] END max_depth=12, max_features=auto, max_leaf_nodes=90, min_samples_leaf=10;, score=(train=-150460248.913, test=-93008312.150) total time=   0.5s\n",
            "[CV 1/3] END max_depth=5, max_features=auto, max_leaf_nodes=30, min_samples_leaf=2;, score=(train=-96148100.569, test=-197786317.862) total time=   0.3s\n",
            "[CV 2/3] END max_depth=5, max_features=auto, max_leaf_nodes=30, min_samples_leaf=2;, score=(train=-92498137.822, test=-222710994.304) total time=   0.3s\n",
            "[CV 3/3] END max_depth=5, max_features=auto, max_leaf_nodes=30, min_samples_leaf=2;, score=(train=-124275930.713, test=-111420100.735) total time=   0.3s\n",
            "[CV 1/3] END max_depth=7, max_features=sqrt, max_leaf_nodes=None, min_samples_leaf=6;, score=(train=-97635197.454, test=-195813892.799) total time=   0.1s\n",
            "[CV 2/3] END max_depth=7, max_features=sqrt, max_leaf_nodes=None, min_samples_leaf=6;, score=(train=-112901013.188, test=-170222299.742) total time=   0.1s\n",
            "[CV 3/3] END max_depth=7, max_features=sqrt, max_leaf_nodes=None, min_samples_leaf=6;, score=(train=-147540634.184, test=-99880093.913) total time=   0.1s\n",
            "[CV 1/3] END max_depth=7, max_features=auto, max_leaf_nodes=40, min_samples_leaf=3;, score=(train=-88916921.107, test=-215043288.659) total time=   0.4s\n",
            "[CV 2/3] END max_depth=7, max_features=auto, max_leaf_nodes=40, min_samples_leaf=3;, score=(train=-96463977.957, test=-231245734.230) total time=   0.3s\n",
            "[CV 3/3] END max_depth=7, max_features=auto, max_leaf_nodes=40, min_samples_leaf=3;, score=(train=-129502963.572, test=-100826074.480) total time=   0.4s\n",
            "[CV 1/3] END max_depth=5, max_features=auto, max_leaf_nodes=40, min_samples_leaf=6;, score=(train=-105631237.744, test=-192283710.935) total time=   0.3s\n",
            "[CV 2/3] END max_depth=5, max_features=auto, max_leaf_nodes=40, min_samples_leaf=6;, score=(train=-113548430.991, test=-180797515.313) total time=   0.3s\n",
            "[CV 3/3] END max_depth=5, max_features=auto, max_leaf_nodes=40, min_samples_leaf=6;, score=(train=-155280004.682, test=-82740620.157) total time=   0.3s\n",
            "[CV 1/3] END max_depth=3, max_features=auto, max_leaf_nodes=None, min_samples_leaf=9;, score=(train=-112091324.612, test=-188190586.140) total time=   0.2s\n",
            "[CV 2/3] END max_depth=3, max_features=auto, max_leaf_nodes=None, min_samples_leaf=9;, score=(train=-127020238.341, test=-161799874.064) total time=   0.2s\n",
            "[CV 3/3] END max_depth=3, max_features=auto, max_leaf_nodes=None, min_samples_leaf=9;, score=(train=-165906607.840, test=-79834497.906) total time=   0.2s\n",
            "[CV 1/3] END max_depth=7, max_features=sqrt, max_leaf_nodes=20, min_samples_leaf=4;, score=(train=-107364619.782, test=-197932558.983) total time=   0.1s\n",
            "[CV 2/3] END max_depth=7, max_features=sqrt, max_leaf_nodes=20, min_samples_leaf=4;, score=(train=-114725471.290, test=-178879606.816) total time=   0.1s\n",
            "[CV 3/3] END max_depth=7, max_features=sqrt, max_leaf_nodes=20, min_samples_leaf=4;, score=(train=-146391530.114, test=-82712216.422) total time=   0.0s\n",
            "[CV 1/3] END max_depth=3, max_features=sqrt, max_leaf_nodes=None, min_samples_leaf=6;, score=(train=-115028305.202, test=-186992590.170) total time=   0.0s\n",
            "[CV 2/3] END max_depth=3, max_features=sqrt, max_leaf_nodes=None, min_samples_leaf=6;, score=(train=-128609751.392, test=-160678356.037) total time=   0.0s\n",
            "[CV 3/3] END max_depth=3, max_features=sqrt, max_leaf_nodes=None, min_samples_leaf=6;, score=(train=-168387930.761, test=-80167744.277) total time=   0.0s\n",
            "[CV 1/3] END max_depth=11, max_features=log2, max_leaf_nodes=10, min_samples_leaf=4;, score=(train=-106950718.087, test=-210888870.735) total time=   0.0s\n",
            "[CV 2/3] END max_depth=11, max_features=log2, max_leaf_nodes=10, min_samples_leaf=4;, score=(train=-115610857.177, test=-180371534.104) total time=   0.0s\n",
            "[CV 3/3] END max_depth=11, max_features=log2, max_leaf_nodes=10, min_samples_leaf=4;, score=(train=-148935535.086, test=-87665362.069) total time=   0.0s\n",
            "[CV 1/3] END max_depth=3, max_features=auto, max_leaf_nodes=90, min_samples_leaf=6;, score=(train=-110549157.650, test=-190279942.584) total time=   0.2s\n",
            "[CV 2/3] END max_depth=3, max_features=auto, max_leaf_nodes=90, min_samples_leaf=6;, score=(train=-126836101.083, test=-162242382.103) total time=   0.2s\n",
            "[CV 3/3] END max_depth=3, max_features=auto, max_leaf_nodes=90, min_samples_leaf=6;, score=(train=-163730374.304, test=-82688331.615) total time=   0.2s\n",
            "[CV 1/3] END max_depth=1, max_features=sqrt, max_leaf_nodes=10, min_samples_leaf=2;, score=(train=-118045706.303, test=-186281568.496) total time=   0.0s\n",
            "[CV 2/3] END max_depth=1, max_features=sqrt, max_leaf_nodes=10, min_samples_leaf=2;, score=(train=-131219953.635, test=-161135841.948) total time=   0.0s\n",
            "[CV 3/3] END max_depth=1, max_features=sqrt, max_leaf_nodes=10, min_samples_leaf=2;, score=(train=-172928554.224, test=-75254974.194) total time=   0.0s\n",
            "[CV 1/3] END max_depth=5, max_features=log2, max_leaf_nodes=40, min_samples_leaf=2;, score=(train=-102601900.862, test=-196245192.869) total time=   0.0s\n",
            "[CV 2/3] END max_depth=5, max_features=log2, max_leaf_nodes=40, min_samples_leaf=2;, score=(train=-124927963.597, test=-166895097.349) total time=   0.0s\n",
            "[CV 3/3] END max_depth=5, max_features=log2, max_leaf_nodes=40, min_samples_leaf=2;, score=(train=-147619632.137, test=-84426266.063) total time=   0.0s\n",
            "[CV 1/3] END max_depth=7, max_features=sqrt, max_leaf_nodes=20, min_samples_leaf=2;, score=(train=-87748972.571, test=-203183989.341) total time=   0.1s\n",
            "[CV 2/3] END max_depth=7, max_features=sqrt, max_leaf_nodes=20, min_samples_leaf=2;, score=(train=-101347980.752, test=-194011255.729) total time=   0.0s\n",
            "[CV 3/3] END max_depth=7, max_features=sqrt, max_leaf_nodes=20, min_samples_leaf=2;, score=(train=-148399182.688, test=-80771005.189) total time=   0.0s\n",
            "[CV 1/3] END max_depth=12, max_features=None, max_leaf_nodes=80, min_samples_leaf=8;, score=(train=-98969680.903, test=-201552465.067) total time=   0.4s\n",
            "[CV 2/3] END max_depth=12, max_features=None, max_leaf_nodes=80, min_samples_leaf=8;, score=(train=-106304496.203, test=-185163238.184) total time=   0.4s\n",
            "[CV 3/3] END max_depth=12, max_features=None, max_leaf_nodes=80, min_samples_leaf=8;, score=(train=-148259352.444, test=-93966759.581) total time=   0.5s\n",
            "[CV 1/3] END max_depth=9, max_features=None, max_leaf_nodes=90, min_samples_leaf=3;, score=(train=-79170221.313, test=-222081536.983) total time=   0.5s\n",
            "[CV 2/3] END max_depth=9, max_features=None, max_leaf_nodes=90, min_samples_leaf=3;, score=(train=-87054302.343, test=-238289821.670) total time=   0.4s\n",
            "[CV 3/3] END max_depth=9, max_features=None, max_leaf_nodes=90, min_samples_leaf=3;, score=(train=-116287851.052, test=-117977810.457) total time=   0.5s\n",
            "[CV 1/3] END max_depth=7, max_features=sqrt, max_leaf_nodes=50, min_samples_leaf=1;, score=(train=-68294170.977, test=-200124797.997) total time=   0.1s\n",
            "[CV 2/3] END max_depth=7, max_features=sqrt, max_leaf_nodes=50, min_samples_leaf=1;, score=(train=-81957517.129, test=-221993211.574) total time=   0.1s\n",
            "[CV 3/3] END max_depth=7, max_features=sqrt, max_leaf_nodes=50, min_samples_leaf=1;, score=(train=-65208010.560, test=-271366107.984) total time=   0.1s\n",
            "[CV 1/3] END max_depth=11, max_features=auto, max_leaf_nodes=60, min_samples_leaf=8;, score=(train=-99977529.297, test=-200607067.665) total time=   0.4s\n",
            "[CV 2/3] END max_depth=11, max_features=auto, max_leaf_nodes=60, min_samples_leaf=8;, score=(train=-107801920.161, test=-184025385.167) total time=   0.4s\n",
            "[CV 3/3] END max_depth=11, max_features=auto, max_leaf_nodes=60, min_samples_leaf=8;, score=(train=-149541420.202, test=-93871666.312) total time=   0.4s\n",
            "[CV 1/3] END max_depth=1, max_features=sqrt, max_leaf_nodes=90, min_samples_leaf=7;, score=(train=-117586434.392, test=-185377941.578) total time=   0.0s\n",
            "[CV 2/3] END max_depth=1, max_features=sqrt, max_leaf_nodes=90, min_samples_leaf=7;, score=(train=-130056149.676, test=-160419001.610) total time=   0.0s\n",
            "[CV 3/3] END max_depth=1, max_features=sqrt, max_leaf_nodes=90, min_samples_leaf=7;, score=(train=-173611139.822, test=-75523672.379) total time=   0.0s\n",
            "[CV 1/3] END max_depth=12, max_features=None, max_leaf_nodes=30, min_samples_leaf=10;, score=(train=-104511152.001, test=-194044474.588) total time=   0.4s\n",
            "[CV 2/3] END max_depth=12, max_features=None, max_leaf_nodes=30, min_samples_leaf=10;, score=(train=-116572741.355, test=-175968531.309) total time=   0.3s\n",
            "[CV 3/3] END max_depth=12, max_features=None, max_leaf_nodes=30, min_samples_leaf=10;, score=(train=-155174170.119, test=-88508575.347) total time=   0.3s\n",
            "[CV 1/3] END max_depth=3, max_features=log2, max_leaf_nodes=70, min_samples_leaf=3;, score=(train=-116438085.280, test=-186010852.662) total time=   0.0s\n",
            "[CV 2/3] END max_depth=3, max_features=log2, max_leaf_nodes=70, min_samples_leaf=3;, score=(train=-129645819.986, test=-161536463.226) total time=   0.0s\n",
            "[CV 3/3] END max_depth=3, max_features=log2, max_leaf_nodes=70, min_samples_leaf=3;, score=(train=-171993333.365, test=-76061214.133) total time=   0.0s\n",
            "[CV 1/3] END max_depth=7, max_features=None, max_leaf_nodes=90, min_samples_leaf=4;, score=(train=-93208081.224, test=-210037121.262) total time=   0.4s\n",
            "[CV 2/3] END max_depth=7, max_features=None, max_leaf_nodes=90, min_samples_leaf=4;, score=(train=-100331905.416, test=-184586002.352) total time=   0.4s\n",
            "[CV 3/3] END max_depth=7, max_features=None, max_leaf_nodes=90, min_samples_leaf=4;, score=(train=-142040471.591, test=-94821072.271) total time=   0.4s\n",
            "[CV 1/3] END max_depth=11, max_features=None, max_leaf_nodes=70, min_samples_leaf=2;, score=(train=-69581550.061, test=-211482012.774) total time=   0.4s\n",
            "[CV 2/3] END max_depth=11, max_features=None, max_leaf_nodes=70, min_samples_leaf=2;, score=(train=-73031452.693, test=-244148673.694) total time=   0.3s\n",
            "[CV 3/3] END max_depth=11, max_features=None, max_leaf_nodes=70, min_samples_leaf=2;, score=(train=-90182964.655, test=-168976549.195) total time=   0.4s\n",
            "[CV 1/3] END max_depth=7, max_features=log2, max_leaf_nodes=70, min_samples_leaf=6;, score=(train=-108036118.514, test=-195441559.341) total time=   0.1s\n",
            "[CV 2/3] END max_depth=7, max_features=log2, max_leaf_nodes=70, min_samples_leaf=6;, score=(train=-116393611.648, test=-178785692.474) total time=   0.1s\n",
            "[CV 3/3] END max_depth=7, max_features=log2, max_leaf_nodes=70, min_samples_leaf=6;, score=(train=-159906694.338, test=-86328557.025) total time=   0.1s\n",
            "[CV 1/3] END max_depth=3, max_features=sqrt, max_leaf_nodes=70, min_samples_leaf=8;, score=(train=-116777768.422, test=-186628634.754) total time=   0.0s\n",
            "[CV 2/3] END max_depth=3, max_features=sqrt, max_leaf_nodes=70, min_samples_leaf=8;, score=(train=-128401871.137, test=-160768161.925) total time=   0.0s\n",
            "[CV 3/3] END max_depth=3, max_features=sqrt, max_leaf_nodes=70, min_samples_leaf=8;, score=(train=-171332948.038, test=-74767408.445) total time=   0.0s\n"
          ]
        },
        {
          "output_type": "execute_result",
          "data": {
            "text/plain": [
              "RandomizedSearchCV(cv=3, estimator=DecisionTreeRegressor(), n_iter=50,\n",
              "                   param_distributions={'max_depth': [1, 3, 5, 7, 9, 11, 12],\n",
              "                                        'max_features': ['auto', 'log2', 'sqrt',\n",
              "                                                         None],\n",
              "                                        'max_leaf_nodes': [None, 10, 20, 30, 40,\n",
              "                                                           50, 60, 70, 80, 90],\n",
              "                                        'min_samples_leaf': [1, 2, 3, 4, 5, 6,\n",
              "                                                             7, 8, 9, 10]},\n",
              "                   random_state=42, return_train_score=True,\n",
              "                   scoring='neg_mean_squared_error', verbose=3)"
            ]
          },
          "metadata": {},
          "execution_count": 46
        }
      ]
    },
    {
      "cell_type": "code",
      "metadata": {
        "colab": {
          "base_uri": "https://localhost:8080/"
        },
        "id": "Nqw8Fmz32nX0",
        "outputId": "2ad73c8f-ded5-4cac-8ebf-7562e42fb337"
      },
      "source": [
        "grid_search.best_params_"
      ],
      "execution_count": null,
      "outputs": [
        {
          "output_type": "execute_result",
          "data": {
            "text/plain": [
              "{'max_depth': 1,\n",
              " 'max_features': 'sqrt',\n",
              " 'max_leaf_nodes': 90,\n",
              " 'min_samples_leaf': 7}"
            ]
          },
          "metadata": {},
          "execution_count": 47
        }
      ]
    },
    {
      "cell_type": "code",
      "metadata": {
        "colab": {
          "base_uri": "https://localhost:8080/"
        },
        "id": "TAkk9FIZ3HDC",
        "outputId": "6f1aac70-a167-4f3b-95ff-01d715416467"
      },
      "source": [
        "tree_reg=DecisionTreeRegressor(max_depth=3,max_features='sqrt',max_leaf_nodes=870,min_samples_leaf=8)\n",
        "tree_reg.fit(x_train,y_train)\n",
        "\n",
        "y_pred=tree_reg.predict(x_val)\n",
        "tree_mse=mean_squared_error(y_pred,y_val)\n",
        "tree_rmse=np.sqrt(tree_mse)\n",
        "tree_rmse"
      ],
      "execution_count": null,
      "outputs": [
        {
          "output_type": "execute_result",
          "data": {
            "text/plain": [
              "11312.662743614845"
            ]
          },
          "metadata": {},
          "execution_count": 48
        }
      ]
    },
    {
      "cell_type": "markdown",
      "metadata": {
        "id": "w3bisiruV5N5"
      },
      "source": [
        "### RandomForestRegressor"
      ]
    },
    {
      "cell_type": "code",
      "metadata": {
        "id": "oyzRyCPMVfTe"
      },
      "source": [
        "from sklearn.ensemble import RandomForestRegressor\n",
        "\n",
        "forest_reg=RandomForestRegressor()\n",
        "forest_reg.fit(x_train,y_train)\n",
        "\n",
        "y_pred=forest_reg.predict(x_val)\n",
        "forest_mse=mean_squared_error(y_pred,y_val)\n",
        "forest_rmse=np.sqrt(forest_mse)\n",
        "forest_rmse"
      ],
      "execution_count": null,
      "outputs": []
    },
    {
      "cell_type": "markdown",
      "metadata": {
        "id": "6JvpWQc9Zvyb"
      },
      "source": [
        "- parameter tuning"
      ]
    },
    {
      "cell_type": "code",
      "metadata": {
        "id": "tQ-BNpGPYo4P"
      },
      "source": [
        "from sklearn.model_selection import RandomizedSearchCV\n",
        "\n",
        "n_estimators = [int(x) for x in np.linspace(start = 10, stop = 1000, num = 20)]\n",
        "max_features = ['auto', 'sqrt']\n",
        "max_depth = [int(x) for x in np.linspace(10, 100, num = 20)]\n",
        "max_depth.append(None)\n",
        "min_samples_split = [2, 5, 10]\n",
        "min_samples_leaf = [1, 2, 4]\n",
        "\n",
        "random_grid = {'n_estimators': n_estimators,\n",
        "               'max_features': max_features,\n",
        "               'max_depth': max_depth,\n",
        "               'min_samples_split': min_samples_split,\n",
        "               'min_samples_leaf': min_samples_leaf}"
      ],
      "execution_count": null,
      "outputs": []
    },
    {
      "cell_type": "code",
      "metadata": {
        "colab": {
          "base_uri": "https://localhost:8080/"
        },
        "id": "d3QP4jyPYz8o",
        "outputId": "5421a8b2-b5bd-42d0-ee81-cd9c03811607"
      },
      "source": [
        "forest_reg=RandomForestRegressor()\n",
        "\n",
        "rf_random = RandomizedSearchCV(estimator = forest_reg, param_distributions = random_grid, cv=3,n_iter=15,random_state=42,scoring='neg_mean_squared_error',return_train_score=True,verbose=3)\n",
        "\n",
        "rf_random.fit(x_train,y_train)"
      ],
      "execution_count": null,
      "outputs": [
        {
          "output_type": "stream",
          "name": "stdout",
          "text": [
            "Fitting 3 folds for each of 15 candidates, totalling 45 fits\n",
            "[CV 1/3] END max_depth=None, max_features=auto, min_samples_leaf=2, min_samples_split=2, n_estimators=531;, score=(train=-46692419.203, test=-190145491.901) total time= 6.8min\n",
            "[CV 2/3] END max_depth=None, max_features=auto, min_samples_leaf=2, min_samples_split=2, n_estimators=531;, score=(train=-47679646.597, test=-163304951.649) total time= 6.7min\n",
            "[CV 3/3] END max_depth=None, max_features=auto, min_samples_leaf=2, min_samples_split=2, n_estimators=531;, score=(train=-66911027.961, test=-78933025.386) total time= 6.8min\n",
            "[CV 1/3] END max_depth=19, max_features=auto, min_samples_leaf=4, min_samples_split=5, n_estimators=10;, score=(train=-71653608.858, test=-194300016.270) total time=   5.9s\n",
            "[CV 2/3] END max_depth=19, max_features=auto, min_samples_leaf=4, min_samples_split=5, n_estimators=10;, score=(train=-85913132.430, test=-164938391.983) total time=   5.7s\n",
            "[CV 3/3] END max_depth=19, max_features=auto, min_samples_leaf=4, min_samples_split=5, n_estimators=10;, score=(train=-116087488.629, test=-81900776.223) total time=   5.8s\n",
            "[CV 1/3] END max_depth=76, max_features=sqrt, min_samples_leaf=4, min_samples_split=10, n_estimators=531;, score=(train=-77680403.175, test=-183731763.999) total time=  40.3s\n",
            "[CV 2/3] END max_depth=76, max_features=sqrt, min_samples_leaf=4, min_samples_split=10, n_estimators=531;, score=(train=-85768149.872, test=-159191411.032) total time=  40.5s\n",
            "[CV 3/3] END max_depth=76, max_features=sqrt, min_samples_leaf=4, min_samples_split=10, n_estimators=531;, score=(train=-116195025.605, test=-74587005.856) total time=  42.4s\n",
            "[CV 1/3] END max_depth=76, max_features=sqrt, min_samples_leaf=1, min_samples_split=2, n_estimators=322;, score=(train=-16906492.306, test=-185537409.784) total time=  33.9s\n",
            "[CV 2/3] END max_depth=76, max_features=sqrt, min_samples_leaf=1, min_samples_split=2, n_estimators=322;, score=(train=-17437901.076, test=-160624506.129) total time=  33.1s\n",
            "[CV 3/3] END max_depth=76, max_features=sqrt, min_samples_leaf=1, min_samples_split=2, n_estimators=322;, score=(train=-24604581.113, test=-76481663.227) total time=  34.8s\n",
            "[CV 1/3] END max_depth=76, max_features=auto, min_samples_leaf=4, min_samples_split=5, n_estimators=583;, score=(train=-70673852.305, test=-187503013.477) total time= 6.5min\n",
            "[CV 2/3] END max_depth=76, max_features=auto, min_samples_leaf=4, min_samples_split=5, n_estimators=583;, score=(train=-77444863.470, test=-161586190.104) total time= 6.3min\n",
            "[CV 3/3] END max_depth=76, max_features=auto, min_samples_leaf=4, min_samples_split=5, n_estimators=583;, score=(train=-108139080.683, test=-76552629.527) total time= 6.3min\n",
            "[CV 1/3] END max_depth=57, max_features=auto, min_samples_leaf=4, min_samples_split=10, n_estimators=635;, score=(train=-72985594.887, test=-186955087.048) total time= 6.9min\n",
            "[CV 2/3] END max_depth=57, max_features=auto, min_samples_leaf=4, min_samples_split=10, n_estimators=635;, score=(train=-78627122.714, test=-161332586.694) total time= 6.8min\n",
            "[CV 3/3] END max_depth=57, max_features=auto, min_samples_leaf=4, min_samples_split=10, n_estimators=635;, score=(train=-110064180.794, test=-76550116.885) total time= 6.9min\n",
            "[CV 1/3] END max_depth=47, max_features=sqrt, min_samples_leaf=1, min_samples_split=5, n_estimators=635;, score=(train=-33990217.959, test=-184776590.711) total time=  59.7s\n",
            "[CV 2/3] END max_depth=47, max_features=sqrt, min_samples_leaf=1, min_samples_split=5, n_estimators=635;, score=(train=-38919329.576, test=-160395970.175) total time=  58.9s\n",
            "[CV 3/3] END max_depth=47, max_features=sqrt, min_samples_leaf=1, min_samples_split=5, n_estimators=635;, score=(train=-49699218.192, test=-76421919.973) total time= 1.0min\n",
            "[CV 1/3] END max_depth=81, max_features=sqrt, min_samples_leaf=4, min_samples_split=5, n_estimators=739;, score=(train=-74998379.708, test=-183952615.548) total time=  56.8s\n",
            "[CV 2/3] END max_depth=81, max_features=sqrt, min_samples_leaf=4, min_samples_split=5, n_estimators=739;, score=(train=-82459150.503, test=-159138047.422) total time=  55.9s\n",
            "[CV 3/3] END max_depth=81, max_features=sqrt, min_samples_leaf=4, min_samples_split=5, n_estimators=739;, score=(train=-112379548.241, test=-74507330.622) total time=  56.9s\n",
            "[CV 1/3] END max_depth=90, max_features=auto, min_samples_leaf=4, min_samples_split=5, n_estimators=270;, score=(train=-71593263.110, test=-187401058.487) total time= 3.0min\n",
            "[CV 2/3] END max_depth=90, max_features=auto, min_samples_leaf=4, min_samples_split=5, n_estimators=270;, score=(train=-75460351.967, test=-161579165.451) total time= 2.9min\n",
            "[CV 3/3] END max_depth=90, max_features=auto, min_samples_leaf=4, min_samples_split=5, n_estimators=270;, score=(train=-106044561.408, test=-77156874.086) total time= 3.0min\n",
            "[CV 1/3] END max_depth=14, max_features=auto, min_samples_leaf=2, min_samples_split=10, n_estimators=322;, score=(train=-62707656.385, test=-190090970.310) total time= 2.5min\n",
            "[CV 2/3] END max_depth=14, max_features=auto, min_samples_leaf=2, min_samples_split=10, n_estimators=322;, score=(train=-65888238.921, test=-162058740.583) total time= 2.5min\n",
            "[CV 3/3] END max_depth=14, max_features=auto, min_samples_leaf=2, min_samples_split=10, n_estimators=322;, score=(train=-91873653.627, test=-78367057.803) total time= 2.5min\n",
            "[CV 1/3] END max_depth=76, max_features=sqrt, min_samples_leaf=2, min_samples_split=10, n_estimators=739;, score=(train=-66279349.201, test=-184202214.987) total time= 1.0min\n",
            "[CV 2/3] END max_depth=76, max_features=sqrt, min_samples_leaf=2, min_samples_split=10, n_estimators=739;, score=(train=-72487642.479, test=-159613196.479) total time= 1.0min\n",
            "[CV 3/3] END max_depth=76, max_features=sqrt, min_samples_leaf=2, min_samples_split=10, n_estimators=739;, score=(train=-97752798.203, test=-75009508.813) total time= 1.0min\n",
            "[CV 1/3] END max_depth=66, max_features=auto, min_samples_leaf=2, min_samples_split=10, n_estimators=322;, score=(train=-59157647.805, test=-189660569.916) total time= 3.9min\n",
            "[CV 2/3] END max_depth=66, max_features=auto, min_samples_leaf=2, min_samples_split=10, n_estimators=322;, score=(train=-63406625.060, test=-162620884.493) total time= 3.8min\n",
            "[CV 3/3] END max_depth=66, max_features=auto, min_samples_leaf=2, min_samples_split=10, n_estimators=322;, score=(train=-88598412.310, test=-78390235.104) total time= 3.8min\n",
            "[CV 1/3] END max_depth=81, max_features=auto, min_samples_leaf=4, min_samples_split=10, n_estimators=947;, score=(train=-72788461.293, test=-186931144.840) total time=10.2min\n",
            "[CV 2/3] END max_depth=81, max_features=auto, min_samples_leaf=4, min_samples_split=10, n_estimators=947;, score=(train=-79946808.908, test=-161143002.025) total time=10.0min\n",
            "[CV 3/3] END max_depth=81, max_features=auto, min_samples_leaf=4, min_samples_split=10, n_estimators=947;, score=(train=-110201569.707, test=-76503479.423) total time=10.4min\n",
            "[CV 1/3] END max_depth=90, max_features=auto, min_samples_leaf=2, min_samples_split=10, n_estimators=583;, score=(train=-58701919.890, test=-189701733.635) total time= 7.2min\n",
            "[CV 2/3] END max_depth=90, max_features=auto, min_samples_leaf=2, min_samples_split=10, n_estimators=583;, score=(train=-62985386.406, test=-162867306.295) total time= 6.8min\n",
            "[CV 3/3] END max_depth=90, max_features=auto, min_samples_leaf=2, min_samples_split=10, n_estimators=583;, score=(train=-89417358.325, test=-78238253.136) total time= 7.0min\n",
            "[CV 1/3] END max_depth=52, max_features=sqrt, min_samples_leaf=1, min_samples_split=5, n_estimators=218;, score=(train=-33029792.367, test=-185204373.709) total time=  20.8s\n",
            "[CV 2/3] END max_depth=52, max_features=sqrt, min_samples_leaf=1, min_samples_split=5, n_estimators=218;, score=(train=-36265912.478, test=-160406413.961) total time=  19.7s\n",
            "[CV 3/3] END max_depth=52, max_features=sqrt, min_samples_leaf=1, min_samples_split=5, n_estimators=218;, score=(train=-49047807.427, test=-76809540.052) total time=  20.5s\n"
          ]
        },
        {
          "output_type": "execute_result",
          "data": {
            "text/plain": [
              "RandomizedSearchCV(cv=3, estimator=RandomForestRegressor(), n_iter=15,\n",
              "                   param_distributions={'max_depth': [10, 14, 19, 24, 28, 33,\n",
              "                                                      38, 43, 47, 52, 57, 62,\n",
              "                                                      66, 71, 76, 81, 85, 90,\n",
              "                                                      95, 100, None],\n",
              "                                        'max_features': ['auto', 'sqrt'],\n",
              "                                        'min_samples_leaf': [1, 2, 4],\n",
              "                                        'min_samples_split': [2, 5, 10],\n",
              "                                        'n_estimators': [10, 62, 114, 166, 218,\n",
              "                                                         270, 322, 374, 426,\n",
              "                                                         478, 531, 583, 635,\n",
              "                                                         687, 739, 791, 843,\n",
              "                                                         895, 947, 1000]},\n",
              "                   random_state=42, return_train_score=True,\n",
              "                   scoring='neg_mean_squared_error', verbose=3)"
            ]
          },
          "metadata": {},
          "execution_count": 25
        }
      ]
    },
    {
      "cell_type": "code",
      "metadata": {
        "id": "r6526hAOZXGJ",
        "colab": {
          "base_uri": "https://localhost:8080/"
        },
        "outputId": "d4da6ecc-3b25-453e-f413-9371827a0c34"
      },
      "source": [
        "rf_random.best_params_"
      ],
      "execution_count": null,
      "outputs": [
        {
          "output_type": "execute_result",
          "data": {
            "text/plain": [
              "{'max_depth': 76,\n",
              " 'max_features': 'sqrt',\n",
              " 'min_samples_leaf': 4,\n",
              " 'min_samples_split': 10,\n",
              " 'n_estimators': 531}"
            ]
          },
          "metadata": {},
          "execution_count": 26
        }
      ]
    },
    {
      "cell_type": "code",
      "metadata": {
        "colab": {
          "base_uri": "https://localhost:8080/"
        },
        "id": "hHZVx8azQ3Qq",
        "outputId": "9371b206-0de4-4a4e-e61c-7cdf654d2427"
      },
      "source": [
        "from sklearn.ensemble import RandomForestRegressor\n",
        "\n",
        "forest_reg=RandomForestRegressor(max_depth= 76,max_features= 'sqrt',min_samples_leaf= 4,min_samples_split=10,n_estimators= 531)\n",
        "forest_reg.fit(x_train,y_train)\n",
        "\n",
        "y_pred=forest_reg.predict(x_val)\n",
        "forest_mse=mean_squared_error(y_pred,y_val)\n",
        "forest_rmse=np.sqrt(forest_mse)\n",
        "forest_rmse"
      ],
      "execution_count": null,
      "outputs": [
        {
          "output_type": "execute_result",
          "data": {
            "text/plain": [
              "11197.866855298356"
            ]
          },
          "metadata": {},
          "execution_count": 15
        }
      ]
    },
    {
      "cell_type": "markdown",
      "metadata": {
        "id": "CCy7f-QnZLcU"
      },
      "source": [
        "### 엑스트라 트리"
      ]
    },
    {
      "cell_type": "code",
      "metadata": {
        "colab": {
          "base_uri": "https://localhost:8080/"
        },
        "id": "T-ckhEHkZQsc",
        "outputId": "33a4ec11-f136-4e89-dd9f-ea93db967beb"
      },
      "source": [
        "from sklearn.ensemble import ExtraTreesRegressor\n",
        "\n",
        "xtree_reg = ExtraTreesRegressor(max_depth= 76,max_features= 'sqrt',\n",
        "                                min_samples_leaf= 4,min_samples_split=10,n_estimators= 531, random_state=42)\n",
        "xtree_reg.fit(x_train, y_train)\n",
        "\n",
        "y_pred=xtree_reg.predict(x_val)\n",
        "xtree_mse=mean_squared_error(y_pred,y_val)\n",
        "xtree_rmse=np.sqrt(xtree_mse)\n",
        "xtree_rmse"
      ],
      "execution_count": null,
      "outputs": [
        {
          "output_type": "execute_result",
          "data": {
            "text/plain": [
              "11224.79488510362"
            ]
          },
          "metadata": {},
          "execution_count": 16
        }
      ]
    },
    {
      "cell_type": "markdown",
      "metadata": {
        "id": "JPMw9EWhbsxS"
      },
      "source": [
        "### 다항회귀(2차)"
      ]
    },
    {
      "cell_type": "code",
      "metadata": {
        "colab": {
          "base_uri": "https://localhost:8080/"
        },
        "id": "qZ-PVVnTbwcF",
        "outputId": "bbcd56fc-4de4-4505-e312-4855205af4f4"
      },
      "source": [
        "#2차\n",
        "from sklearn.preprocessing import PolynomialFeatures\n",
        "poly_features=PolynomialFeatures(degree=2,include_bias=False)\n",
        "x_poly_train=poly_features.fit_transform(x_train)\n",
        "x_poly_test=poly_features.fit_transform(x_test)\n",
        "x_poly_val=poly_features.fit_transform(x_val)\n",
        "\n",
        "lin_reg=LinearRegression()\n",
        "lin_reg.fit(x_poly_train,y_train)\n",
        "y_pred=lin_reg.predict(x_poly_val)\n",
        "poly_mse=mean_squared_error(y_pred,y_val)\n",
        "poly_rmse=np.sqrt(poly_mse)\n",
        "poly_rmse"
      ],
      "execution_count": null,
      "outputs": [
        {
          "output_type": "execute_result",
          "data": {
            "text/plain": [
              "298440071.91752154"
            ]
          },
          "metadata": {},
          "execution_count": 51
        }
      ]
    },
    {
      "cell_type": "markdown",
      "metadata": {
        "id": "VAV22iY4dcWi"
      },
      "source": [
        "### 규제가 있는 선형모델"
      ]
    },
    {
      "cell_type": "markdown",
      "metadata": {
        "id": "D8cl35iSeBcZ"
      },
      "source": [
        "- ridge"
      ]
    },
    {
      "cell_type": "code",
      "metadata": {
        "colab": {
          "base_uri": "https://localhost:8080/"
        },
        "id": "PgEeJcgwdfQz",
        "outputId": "51196880-8eac-41d2-a509-48e38e892389"
      },
      "source": [
        "from sklearn.linear_model import SGDRegressor\n",
        "\n",
        "ridge_reg=SGDRegressor(penalty='l2')\n",
        "ridge_reg.fit(x_train,y_train)\n",
        "y_pred=ridge_reg.predict(x_val)\n",
        "ridge_mse=mean_squared_error(y_pred,y_val)\n",
        "ridge_rmse=np.sqrt(ridge_mse)\n",
        "ridge_rmse"
      ],
      "execution_count": null,
      "outputs": [
        {
          "output_type": "execute_result",
          "data": {
            "text/plain": [
              "2.4778496794387935e+19"
            ]
          },
          "metadata": {},
          "execution_count": 16
        }
      ]
    },
    {
      "cell_type": "code",
      "metadata": {
        "colab": {
          "base_uri": "https://localhost:8080/"
        },
        "id": "0ELI2H_9gM_Z",
        "outputId": "874047af-4415-42e5-99cc-3f1fb294d4ab"
      },
      "source": [
        "from sklearn.model_selection import GridSearchCV\n",
        "param_grid={'alpha':[0,0.1,0.2,0.3,0.4,0.5,0.6,0.7,0.8,0.9,1]}\n",
        "\n",
        "grid_search = GridSearchCV(ridge_reg, param_grid, scoring='neg_mean_absolute_error', cv=5, n_jobs=-1)\n",
        "\n",
        "grid_search.fit(x_train,y_train)\n"
      ],
      "execution_count": null,
      "outputs": [
        {
          "output_type": "execute_result",
          "data": {
            "text/plain": [
              "GridSearchCV(cv=5, estimator=SGDRegressor(), n_jobs=-1,\n",
              "             param_grid={'alpha': [0, 0.1, 0.2, 0.3, 0.4, 0.5, 0.6, 0.7, 0.8,\n",
              "                                   0.9, 1]},\n",
              "             scoring='neg_mean_absolute_error')"
            ]
          },
          "metadata": {},
          "execution_count": 18
        }
      ]
    },
    {
      "cell_type": "code",
      "metadata": {
        "colab": {
          "base_uri": "https://localhost:8080/"
        },
        "id": "FG-RqGf_h9TS",
        "outputId": "1698f7e9-96ad-4aeb-88ff-c631fa8bc20c"
      },
      "source": [
        "grid_search.best_params_"
      ],
      "execution_count": null,
      "outputs": [
        {
          "output_type": "execute_result",
          "data": {
            "text/plain": [
              "{'alpha': 0.4}"
            ]
          },
          "metadata": {},
          "execution_count": 19
        }
      ]
    },
    {
      "cell_type": "code",
      "metadata": {
        "colab": {
          "base_uri": "https://localhost:8080/"
        },
        "id": "g2VjuhTXiSo6",
        "outputId": "827d13c9-3bd9-4952-b312-17d90dd42cdf"
      },
      "source": [
        "ridge_reg=SGDRegressor(penalty='l2',alpha=0.4)\n",
        "ridge_reg.fit(x_train,y_train)\n",
        "y_pred=ridge_reg.predict(x_val)\n",
        "ridge_mse=mean_squared_error(y_pred,y_val)\n",
        "ridge_rmse=np.sqrt(ridge_mse)\n",
        "ridge_rmse"
      ],
      "execution_count": null,
      "outputs": [
        {
          "output_type": "execute_result",
          "data": {
            "text/plain": [
              "5.181458278145719e+19"
            ]
          },
          "metadata": {},
          "execution_count": 24
        }
      ]
    },
    {
      "cell_type": "markdown",
      "metadata": {
        "id": "SORdRaygeC0p"
      },
      "source": [
        "- lasso"
      ]
    },
    {
      "cell_type": "code",
      "metadata": {
        "colab": {
          "base_uri": "https://localhost:8080/"
        },
        "id": "DkXZpshFeEcu",
        "outputId": "612d605a-a9d5-45ea-8a68-4b036d49e044"
      },
      "source": [
        "lasso_reg=SGDRegressor(penalty='l1')\n",
        "lasso_reg.fit(x_train,y_train)\n",
        "y_pred=ridge_reg.predict(x_val)\n",
        "lasso_mse=mean_squared_error(y_pred,y_val)\n",
        "lasso_rmse=np.sqrt(lasso_mse)\n",
        "lasso_rmse"
      ],
      "execution_count": null,
      "outputs": [
        {
          "output_type": "execute_result",
          "data": {
            "text/plain": [
              "4.8844313819096195e+19"
            ]
          },
          "metadata": {},
          "execution_count": 21
        }
      ]
    },
    {
      "cell_type": "code",
      "metadata": {
        "colab": {
          "base_uri": "https://localhost:8080/"
        },
        "id": "e98TtArBibUZ",
        "outputId": "de4fea50-2afb-44cb-c1f3-bcb5fdf514e9"
      },
      "source": [
        "param_grid={'alpha':[0,0.1,0.2,0.3,0.4,0.5,0.6,0.7,0.8,0.9,1]}\n",
        "\n",
        "grid_search = GridSearchCV(lasso_reg, param_grid, scoring='neg_mean_absolute_error', cv=5, n_jobs=-1)\n",
        "\n",
        "grid_search.fit(x_train,y_train)"
      ],
      "execution_count": null,
      "outputs": [
        {
          "output_type": "execute_result",
          "data": {
            "text/plain": [
              "GridSearchCV(cv=5, estimator=SGDRegressor(penalty='l1'), n_jobs=-1,\n",
              "             param_grid={'alpha': [0, 0.1, 0.2, 0.3, 0.4, 0.5, 0.6, 0.7, 0.8,\n",
              "                                   0.9, 1]},\n",
              "             scoring='neg_mean_absolute_error')"
            ]
          },
          "metadata": {},
          "execution_count": 22
        }
      ]
    },
    {
      "cell_type": "code",
      "metadata": {
        "colab": {
          "base_uri": "https://localhost:8080/"
        },
        "id": "fAefxtgTihjA",
        "outputId": "420d6917-b2a0-4ad5-95d6-1f6186849baf"
      },
      "source": [
        "grid_search.best_params_"
      ],
      "execution_count": null,
      "outputs": [
        {
          "output_type": "execute_result",
          "data": {
            "text/plain": [
              "{'alpha': 0.7}"
            ]
          },
          "metadata": {},
          "execution_count": 23
        }
      ]
    },
    {
      "cell_type": "code",
      "metadata": {
        "colab": {
          "base_uri": "https://localhost:8080/"
        },
        "id": "0umf_ia_iiSf",
        "outputId": "9570ecac-3f7a-45dc-fdc3-f973c48fbcbd"
      },
      "source": [
        "lasso_reg=SGDRegressor(penalty='l1',alpha=0.7)\n",
        "lasso_reg.fit(x_train,y_train)\n",
        "y_pred=ridge_reg.predict(x_val)\n",
        "lasso_mse=mean_squared_error(y_pred,y_val)\n",
        "lasso_rmse=np.sqrt(lasso_mse)\n",
        "lasso_rmse"
      ],
      "execution_count": null,
      "outputs": [
        {
          "output_type": "execute_result",
          "data": {
            "text/plain": [
              "5.181458278145719e+19"
            ]
          },
          "metadata": {},
          "execution_count": 25
        }
      ]
    },
    {
      "cell_type": "markdown",
      "metadata": {
        "id": "wd7HMvhypxCm"
      },
      "source": [
        "### 앙상블: 투표기반 모델"
      ]
    },
    {
      "cell_type": "code",
      "metadata": {
        "colab": {
          "base_uri": "https://localhost:8080/"
        },
        "id": "IG3XUvNUp0YB",
        "outputId": "fc8a490c-9caf-482e-c5cf-473508b193e1"
      },
      "source": [
        "from sklearn.ensemble import RandomForestRegressor\n",
        "from sklearn.ensemble import VotingRegressor\n",
        "from sklearn.linear_model import LinearRegression\n",
        "\n",
        "lin_reg=LinearRegression()\n",
        "forest_reg=RandomForestRegressor(max_depth= 76,max_features= 'sqrt',min_samples_leaf= 4,min_samples_split=10,n_estimators= 531)\n",
        "xtree_reg = ExtraTreesRegressor(max_depth= 76,max_features= 'sqrt',min_samples_leaf= 4,min_samples_split=10,n_estimators= 531, random_state=42)\n",
        "\n",
        "voting_reg = VotingRegressor(estimators=[('rf',forest_reg),('lr',lin_reg),('xt',xtree_reg)])\n",
        "voting_reg.fit(x_train,y_train)\n",
        "\n",
        "for reg in (forest_reg, lin_reg,xtree_reg):\n",
        "  reg.fit(x_train,y_train)\n",
        "  y_pred=reg.predict(x_val)\n",
        "  print(mean_squared_error(y_pred,y_val))"
      ],
      "execution_count": null,
      "outputs": [
        {
          "output_type": "stream",
          "name": "stdout",
          "text": [
            "125352141.74536636\n",
            "126127374.85547838\n",
            "125996020.21264838\n"
          ]
        }
      ]
    },
    {
      "cell_type": "code",
      "metadata": {
        "colab": {
          "base_uri": "https://localhost:8080/"
        },
        "id": "307TOTm2cRWE",
        "outputId": "62903e04-47f4-4ac1-8748-07a6082035ff"
      },
      "source": [
        "print(np.sqrt(125268696.94656265))\n",
        "print(np.sqrt(126127374.85547838))\n",
        "print(np.sqrt(125996020.21264838))"
      ],
      "execution_count": null,
      "outputs": [
        {
          "output_type": "stream",
          "name": "stdout",
          "text": [
            "11192.349929597567\n",
            "11230.644454147696\n",
            "11224.79488510362\n"
          ]
        }
      ]
    },
    {
      "cell_type": "code",
      "metadata": {
        "colab": {
          "base_uri": "https://localhost:8080/"
        },
        "id": "l1VgzHbpce0f",
        "outputId": "e3848088-0f22-4052-c84a-b88dbf936b39"
      },
      "source": [
        "y_pred=voting_reg.predict(x_val)\n",
        "voting_reg_mse=mean_squared_error(y_pred,y_val)\n",
        "voting_reg_rmse=np.sqrt(voting_reg_mse)\n",
        "voting_reg_rmse"
      ],
      "execution_count": null,
      "outputs": [
        {
          "output_type": "execute_result",
          "data": {
            "text/plain": [
              "11189.927011475174"
            ]
          },
          "metadata": {},
          "execution_count": 19
        }
      ]
    },
    {
      "cell_type": "markdown",
      "metadata": {
        "id": "ee_Lfmw7MfXZ"
      },
      "source": [
        "- test data에서"
      ]
    },
    {
      "cell_type": "code",
      "metadata": {
        "colab": {
          "base_uri": "https://localhost:8080/"
        },
        "id": "bcPWnfolrrEX",
        "outputId": "1f60f028-1a70-4317-ce67-6e4f6f4771ec"
      },
      "source": [
        "y_pred_test=voting_reg.predict(x_test)\n",
        "voting_mse=mean_squared_error(y_pred_test,y_test)\n",
        "voting_rmse=np.sqrt(voting_mse)\n",
        "voting_rmse"
      ],
      "execution_count": null,
      "outputs": [
        {
          "output_type": "execute_result",
          "data": {
            "text/plain": [
              "10806.38978012193"
            ]
          },
          "metadata": {},
          "execution_count": 21
        }
      ]
    },
    {
      "cell_type": "markdown",
      "metadata": {
        "id": "F5pij9bHtnpp"
      },
      "source": [
        "### 앙상블: Bagging"
      ]
    },
    {
      "cell_type": "code",
      "metadata": {
        "id": "Xr1o41D4XK2Z"
      },
      "source": [
        "from sklearn.ensemble import BaggingRegressor\n",
        "from sklearn.tree import DecisionTreeRegressor\n",
        "\n",
        "bag_reg=BaggingRegressor(DecisionTreeRegressor(max_depth=3,max_features='sqrt',max_leaf_nodes=870,min_samples_leaf=8),n_estimators=500,max_samples=100,bootstrap=True)\n",
        "bag_reg.fit(x_train,y_train)\n",
        "\n",
        "y_pred=bag_reg.predict(x_val)"
      ],
      "execution_count": null,
      "outputs": []
    },
    {
      "cell_type": "code",
      "metadata": {
        "colab": {
          "base_uri": "https://localhost:8080/"
        },
        "id": "XAW3u9IcdcoR",
        "outputId": "a6799858-82de-45de-f4b8-79dfad3d3748"
      },
      "source": [
        "bag_reg_mse=mean_squared_error(y_pred,y_val)\n",
        "bag_reg_rmse=np.sqrt(bag_reg_mse)\n",
        "bag_reg_rmse"
      ],
      "execution_count": null,
      "outputs": [
        {
          "output_type": "execute_result",
          "data": {
            "text/plain": [
              "11243.660483673244"
            ]
          },
          "metadata": {},
          "execution_count": 44
        }
      ]
    },
    {
      "cell_type": "markdown",
      "metadata": {
        "id": "-nXL0OTEaaNt"
      },
      "source": [
        "### 앙상블: Boosting"
      ]
    },
    {
      "cell_type": "markdown",
      "metadata": {
        "id": "8S98XoKDe6QA"
      },
      "source": [
        "- 그레이디언트 부스팅"
      ]
    },
    {
      "cell_type": "code",
      "metadata": {
        "id": "fN4-d8Iqb0nb"
      },
      "source": [
        "###GradientBoosting\n",
        "from sklearn.ensemble import GradientBoostingRegressor\n",
        "\n",
        "gbrt_reg=GradientBoostingRegressor(max_depth=2,n_estimators=3,learning_rate=1.0)\n",
        "gbrt_reg.fit(x_train,y_train)\n",
        "\n",
        "y_pred=gbrt_reg.predict(x_val)"
      ],
      "execution_count": null,
      "outputs": []
    },
    {
      "cell_type": "code",
      "metadata": {
        "colab": {
          "base_uri": "https://localhost:8080/"
        },
        "id": "38Wzw5Wed3Ye",
        "outputId": "b0df06a6-6740-4c92-9201-c9ce6ab18cce"
      },
      "source": [
        "gbrt_reg_mse=mean_squared_error(y_pred,y_val)\n",
        "gbrt_reg_rmse=np.sqrt(gbrt_reg_mse)\n",
        "gbrt_reg_rmse"
      ],
      "execution_count": null,
      "outputs": [
        {
          "output_type": "execute_result",
          "data": {
            "text/plain": [
              "11278.337733031063"
            ]
          },
          "metadata": {},
          "execution_count": 48
        }
      ]
    },
    {
      "cell_type": "markdown",
      "metadata": {
        "id": "w6LpdGJzfM2a"
      },
      "source": [
        "- xgboost"
      ]
    },
    {
      "cell_type": "code",
      "metadata": {
        "colab": {
          "base_uri": "https://localhost:8080/"
        },
        "id": "wXP_GN9mfQRG",
        "outputId": "f65ae2ea-9b15-4623-f788-347bc23a7232"
      },
      "source": [
        "import xgboost\n",
        "xgb_reg=xgboost.XGBRegressor()\n",
        "xgb_reg.fit(x_train,y_train,eval_set=[(x_val,y_val)],early_stopping_rounds=2)\n",
        "y_pred=xgb_reg.predict(x_val)\n"
      ],
      "execution_count": null,
      "outputs": [
        {
          "output_type": "stream",
          "name": "stdout",
          "text": [
            "[10:58:11] WARNING: /workspace/src/objective/regression_obj.cu:152: reg:linear is now deprecated in favor of reg:squarederror.\n",
            "[0]\tvalidation_0-rmse:11714.1\n",
            "Will train until validation_0-rmse hasn't improved in 2 rounds.\n",
            "[1]\tvalidation_0-rmse:11627.4\n",
            "[2]\tvalidation_0-rmse:11552\n",
            "[3]\tvalidation_0-rmse:11492.5\n",
            "[4]\tvalidation_0-rmse:11445.1\n",
            "[5]\tvalidation_0-rmse:11404.9\n",
            "[6]\tvalidation_0-rmse:11374.5\n",
            "[7]\tvalidation_0-rmse:11350.8\n",
            "[8]\tvalidation_0-rmse:11328.5\n",
            "[9]\tvalidation_0-rmse:11310.2\n",
            "[10]\tvalidation_0-rmse:11295.5\n",
            "[11]\tvalidation_0-rmse:11283.9\n",
            "[12]\tvalidation_0-rmse:11273.5\n",
            "[13]\tvalidation_0-rmse:11265.4\n",
            "[14]\tvalidation_0-rmse:11259.9\n",
            "[15]\tvalidation_0-rmse:11253\n",
            "[16]\tvalidation_0-rmse:11250.6\n",
            "[17]\tvalidation_0-rmse:11246.8\n",
            "[18]\tvalidation_0-rmse:11243.4\n",
            "[19]\tvalidation_0-rmse:11241.6\n",
            "[20]\tvalidation_0-rmse:11239.4\n",
            "[21]\tvalidation_0-rmse:11238.2\n",
            "[22]\tvalidation_0-rmse:11238.2\n",
            "[23]\tvalidation_0-rmse:11237.4\n",
            "[24]\tvalidation_0-rmse:11231.9\n",
            "[25]\tvalidation_0-rmse:11232.4\n",
            "[26]\tvalidation_0-rmse:11231.5\n",
            "[27]\tvalidation_0-rmse:11232\n",
            "[28]\tvalidation_0-rmse:11232\n",
            "Stopping. Best iteration:\n",
            "[26]\tvalidation_0-rmse:11231.5\n",
            "\n"
          ]
        }
      ]
    },
    {
      "cell_type": "code",
      "metadata": {
        "colab": {
          "base_uri": "https://localhost:8080/"
        },
        "id": "rF95TFN0gHx7",
        "outputId": "d2174526-5198-4b4c-fc17-0b746fb0f869"
      },
      "source": [
        "xgb_reg_mse=mean_squared_error(y_pred,y_val)\n",
        "xgb_reg_rmse=np.sqrt(xgb_reg_mse)\n",
        "xgb_reg_rmse"
      ],
      "execution_count": null,
      "outputs": [
        {
          "output_type": "execute_result",
          "data": {
            "text/plain": [
              "11231.493612353388"
            ]
          },
          "metadata": {},
          "execution_count": 56
        }
      ]
    },
    {
      "cell_type": "markdown",
      "metadata": {
        "id": "GhGl1KNyLYMa"
      },
      "source": [
        "# PART2"
      ]
    },
    {
      "cell_type": "markdown",
      "metadata": {
        "id": "vSfgYcmq9rBJ"
      },
      "source": [
        "### import"
      ]
    },
    {
      "cell_type": "code",
      "metadata": {
        "id": "8ytIzqkbN8--"
      },
      "source": [
        "from PIL import Image\n",
        "import os, shutil \n",
        "import matplotlib as mpl \n",
        "import matplotlib.pyplot as plt \n",
        "import tensorflow as tf \n",
        "from tensorflow import keras \n",
        "from tensorflow.keras import layers \n",
        "from tensorflow.keras import models \n",
        "from tensorflow.keras.preprocessing.image import ImageDataGenerator\n",
        "from tensorflow.keras import optimizers"
      ],
      "execution_count": null,
      "outputs": []
    },
    {
      "cell_type": "markdown",
      "metadata": {
        "id": "Cy6jSh0E92MX"
      },
      "source": [
        "### 이미지 불러오기"
      ]
    },
    {
      "cell_type": "code",
      "metadata": {
        "id": "k9pWrdw1LYhv"
      },
      "source": [
        "train_dir=\"./Training\"\n",
        "valid_dir=\"./Validation\"\n",
        "test_dir=\"./Testing\"\n",
        "\n",
        "valid_healthy_dir=\"./Validation/Healthy\"\n",
        "valid_early_dir=\"./Validation/Early_Blight\"\n",
        "valid_late_dir=\"./Validation/Late_Blight\"\n",
        "\n",
        "test_healthy_dir=\"./Testing/Healthy\"\n",
        "test_early_dir=\"./Testing/Early_Blight\"\n",
        "test_late_dir=\"./Testing/Late_Blight\"\n",
        "\n",
        "train_healthy_dir=\"./Training/Healthy\"\n",
        "train_early_dir=\"./Training/Early_Blight\"\n",
        "train_late_dir=\"./Training/Late_Blight\"\n",
        "\n"
      ],
      "execution_count": null,
      "outputs": []
    },
    {
      "cell_type": "code",
      "metadata": {
        "id": "uYmykPLTQhUS",
        "colab": {
          "base_uri": "https://localhost:8080/"
        },
        "outputId": "ea0b83df-fb63-483d-98ee-fc6fde5ab756"
      },
      "source": [
        "print('total training healthy images:', len(os.listdir(train_healthy_dir)))\n",
        "print('total training early blight images:', len(os.listdir(train_early_dir)))\n",
        "print('total training late blight images:', len(os.listdir(train_late_dir)))\n",
        "print('total testing healthy images:', len(os.listdir(test_healthy_dir)))\n",
        "print('total testing early blight images:', len(os.listdir(test_early_dir)))\n",
        "print('total testing late blight images:', len(os.listdir(test_late_dir)))\n",
        "print('total validation healthy images:', len(os.listdir(valid_healthy_dir)))\n",
        "print('total validation early blight images:', len(os.listdir(valid_early_dir)))\n",
        "print('total validation late blight images:', len(os.listdir(valid_late_dir)))"
      ],
      "execution_count": null,
      "outputs": [
        {
          "output_type": "stream",
          "name": "stdout",
          "text": [
            "total training healthy images: 816\n",
            "total training early blight images: 1303\n",
            "total training late blight images: 1132\n",
            "total testing healthy images: 102\n",
            "total testing early blight images: 162\n",
            "total testing late blight images: 141\n",
            "total validation healthy images: 102\n",
            "total validation early blight images: 163\n",
            "total validation late blight images: 151\n"
          ]
        }
      ]
    },
    {
      "cell_type": "code",
      "metadata": {
        "colab": {
          "base_uri": "https://localhost:8080/"
        },
        "id": "sUC5BIDmA6YW",
        "outputId": "2d55a5c2-090c-4edd-f356-52203d4dc7be"
      },
      "source": [
        "#이미지 사이즈 확인\n",
        " \n",
        "image1 = Image.open('./Training/Late_Blight/Late_Blight_1.jpg')\n",
        "\n",
        "image1.show()\n",
        "\n",
        "imag1_size = image1.size\n",
        "\n",
        "print(imag1_size)  #256"
      ],
      "execution_count": null,
      "outputs": [
        {
          "output_type": "stream",
          "name": "stdout",
          "text": [
            "(256, 256)\n"
          ]
        }
      ]
    },
    {
      "cell_type": "markdown",
      "metadata": {
        "id": "LlVjemZ3B5lh"
      },
      "source": [
        "### CNN1\n",
        "- accuracy 94.25%"
      ]
    },
    {
      "cell_type": "code",
      "metadata": {
        "colab": {
          "base_uri": "https://localhost:8080/"
        },
        "id": "6U3vNPTLZbfu",
        "outputId": "bc820768-e35d-4b8f-8507-7728accc6384"
      },
      "source": [
        "img_size=256\n",
        "\n",
        "model = models.Sequential() \n",
        "model.add(layers.Conv2D(32, (3, 3), activation='relu', input_shape=(img_size, img_size, 3))) \n",
        "model.add(layers.MaxPooling2D((2, 2))) \n",
        "model.add(layers.Conv2D(64, (3, 3), activation='relu')) \n",
        "model.add(layers.MaxPooling2D((2, 2)))\n",
        "model.add(layers.Conv2D(128, (3, 3), activation='relu')) \n",
        "model.add(layers.MaxPooling2D((2, 2))) \n",
        "model.add(layers.Conv2D(128, (3, 3), activation='relu')) \n",
        "model.add(layers.MaxPooling2D((2, 2))) \n",
        "model.add(layers.Flatten()) \n",
        "model.add(layers.Dense(512, activation='relu')) \n",
        "model.add(layers.Dense(3, activation='sigmoid')) \n",
        "model.summary()"
      ],
      "execution_count": null,
      "outputs": [
        {
          "output_type": "stream",
          "name": "stdout",
          "text": [
            "Model: \"sequential_2\"\n",
            "_________________________________________________________________\n",
            " Layer (type)                Output Shape              Param #   \n",
            "=================================================================\n",
            " conv2d_7 (Conv2D)           (None, 254, 254, 32)      896       \n",
            "                                                                 \n",
            " max_pooling2d_6 (MaxPooling  (None, 127, 127, 32)     0         \n",
            " 2D)                                                             \n",
            "                                                                 \n",
            " conv2d_8 (Conv2D)           (None, 125, 125, 64)      18496     \n",
            "                                                                 \n",
            " max_pooling2d_7 (MaxPooling  (None, 62, 62, 64)       0         \n",
            " 2D)                                                             \n",
            "                                                                 \n",
            " conv2d_9 (Conv2D)           (None, 60, 60, 128)       73856     \n",
            "                                                                 \n",
            " max_pooling2d_8 (MaxPooling  (None, 30, 30, 128)      0         \n",
            " 2D)                                                             \n",
            "                                                                 \n",
            " conv2d_10 (Conv2D)          (None, 28, 28, 128)       147584    \n",
            "                                                                 \n",
            " max_pooling2d_9 (MaxPooling  (None, 14, 14, 128)      0         \n",
            " 2D)                                                             \n",
            "                                                                 \n",
            " flatten_2 (Flatten)         (None, 25088)             0         \n",
            "                                                                 \n",
            " dense_4 (Dense)             (None, 512)               12845568  \n",
            "                                                                 \n",
            " dense_5 (Dense)             (None, 3)                 1539      \n",
            "                                                                 \n",
            "=================================================================\n",
            "Total params: 13,087,939\n",
            "Trainable params: 13,087,939\n",
            "Non-trainable params: 0\n",
            "_________________________________________________________________\n"
          ]
        }
      ]
    },
    {
      "cell_type": "code",
      "metadata": {
        "colab": {
          "base_uri": "https://localhost:8080/"
        },
        "id": "uIZAUmA9CuuH",
        "outputId": "5d4b1ab1-269b-4903-e98a-a435e5de8068"
      },
      "source": [
        "model.compile(loss='categorical_crossentropy', optimizer=optimizers.RMSprop(lr=1e-4),metrics=['acc'])\n"
      ],
      "execution_count": null,
      "outputs": [
        {
          "output_type": "stream",
          "name": "stderr",
          "text": [
            "/usr/local/lib/python3.7/dist-packages/keras/optimizer_v2/rmsprop.py:130: UserWarning: The `lr` argument is deprecated, use `learning_rate` instead.\n",
            "  super(RMSprop, self).__init__(name, **kwargs)\n"
          ]
        }
      ]
    },
    {
      "cell_type": "code",
      "metadata": {
        "id": "CTajIygkdTaB",
        "colab": {
          "base_uri": "https://localhost:8080/"
        },
        "outputId": "4a217aab-f93d-4f35-813f-c266b62f4c87"
      },
      "source": [
        "train_datagen = ImageDataGenerator(rescale=1./255)\n",
        "valid_datagen = ImageDataGenerator(rescale=1./255)\n",
        "test_datagen = ImageDataGenerator(rescale=1./255)\n",
        "\n",
        "img_size=256\n",
        "train_generator = train_datagen.flow_from_directory( train_dir, target_size=(img_size, img_size), batch_size=20, class_mode='categorical')\n",
        "valid_generator = valid_datagen.flow_from_directory( valid_dir, target_size=(img_size, img_size), batch_size=20, class_mode='categorical')\n",
        "test_generator = test_datagen.flow_from_directory( test_dir, target_size=(img_size, img_size), batch_size=20, class_mode='categorical')\n"
      ],
      "execution_count": null,
      "outputs": [
        {
          "output_type": "stream",
          "name": "stdout",
          "text": [
            "Found 3251 images belonging to 3 classes.\n",
            "Found 416 images belonging to 3 classes.\n",
            "Found 405 images belonging to 3 classes.\n"
          ]
        }
      ]
    },
    {
      "cell_type": "code",
      "metadata": {
        "colab": {
          "base_uri": "https://localhost:8080/"
        },
        "id": "zZE4bDReEM7N",
        "outputId": "5bf36655-8333-4817-c6d4-fe4069bab889"
      },
      "source": [
        "for data_batch, labels_batch in train_generator:\n",
        "  print(data_batch.shape)\n",
        "  print(labels_batch.shape)\n",
        "  break"
      ],
      "execution_count": null,
      "outputs": [
        {
          "output_type": "stream",
          "name": "stdout",
          "text": [
            "(20, 256, 256, 3)\n",
            "(20, 3)\n"
          ]
        }
      ]
    },
    {
      "cell_type": "code",
      "metadata": {
        "id": "6iPO5mIVIrzU"
      },
      "source": [
        "from keras import callbacks \n",
        "earlystopping = callbacks.EarlyStopping(monitor =\"val_loss\",  \n",
        "\n",
        "                                        mode =\"min\", patience = 5,  \n",
        "\n",
        "                                        restore_best_weights = True) "
      ],
      "execution_count": null,
      "outputs": []
    },
    {
      "cell_type": "code",
      "metadata": {
        "colab": {
          "base_uri": "https://localhost:8080/"
        },
        "id": "KeyWm4QXERDe",
        "outputId": "05e43193-5bce-452c-ffdd-b56aed0adb55"
      },
      "source": [
        "history = model.fit(\n",
        "    train_generator,\n",
        "    steps_per_epoch=150,\n",
        "    epochs=50,\n",
        "    validation_data=valid_generator,validation_steps=20, callbacks =[earlystopping])"
      ],
      "execution_count": null,
      "outputs": [
        {
          "output_type": "stream",
          "name": "stdout",
          "text": [
            "Epoch 1/50\n",
            "150/150 [==============================] - 1129s 7s/step - loss: 0.9493 - acc: 0.5417 - val_loss: 0.7936 - val_acc: 0.6775\n",
            "Epoch 2/50\n",
            "150/150 [==============================] - 84s 552ms/step - loss: 0.7988 - acc: 0.6489 - val_loss: 0.7278 - val_acc: 0.6950\n",
            "Epoch 3/50\n",
            "150/150 [==============================] - 22s 147ms/step - loss: 0.6695 - acc: 0.7168 - val_loss: 0.8175 - val_acc: 0.6525\n",
            "Epoch 4/50\n",
            "150/150 [==============================] - 17s 114ms/step - loss: 0.5687 - acc: 0.7727 - val_loss: 0.5275 - val_acc: 0.8075\n",
            "Epoch 5/50\n",
            "150/150 [==============================] - 17s 113ms/step - loss: 0.4758 - acc: 0.8148 - val_loss: 0.6070 - val_acc: 0.7650\n",
            "Epoch 6/50\n",
            "150/150 [==============================] - 17s 112ms/step - loss: 0.4094 - acc: 0.8485 - val_loss: 0.3905 - val_acc: 0.8525\n",
            "Epoch 7/50\n",
            "150/150 [==============================] - 17s 111ms/step - loss: 0.3378 - acc: 0.8790 - val_loss: 0.5048 - val_acc: 0.7950\n",
            "Epoch 8/50\n",
            "150/150 [==============================] - 17s 111ms/step - loss: 0.2943 - acc: 0.8937 - val_loss: 0.3420 - val_acc: 0.8550\n",
            "Epoch 9/50\n",
            "150/150 [==============================] - 17s 111ms/step - loss: 0.2460 - acc: 0.9101 - val_loss: 0.2753 - val_acc: 0.8900\n",
            "Epoch 10/50\n",
            "150/150 [==============================] - 17s 111ms/step - loss: 0.2162 - acc: 0.9274 - val_loss: 0.3031 - val_acc: 0.8825\n",
            "Epoch 11/50\n",
            "150/150 [==============================] - 17s 111ms/step - loss: 0.1857 - acc: 0.9402 - val_loss: 0.2516 - val_acc: 0.9125\n",
            "Epoch 12/50\n",
            "150/150 [==============================] - 17s 112ms/step - loss: 0.1629 - acc: 0.9482 - val_loss: 0.2466 - val_acc: 0.9100\n",
            "Epoch 13/50\n",
            "150/150 [==============================] - 17s 111ms/step - loss: 0.1424 - acc: 0.9505 - val_loss: 0.2315 - val_acc: 0.9125\n",
            "Epoch 14/50\n",
            "150/150 [==============================] - 17s 111ms/step - loss: 0.1189 - acc: 0.9627 - val_loss: 0.2272 - val_acc: 0.9050\n",
            "Epoch 15/50\n",
            "150/150 [==============================] - 17s 111ms/step - loss: 0.1128 - acc: 0.9636 - val_loss: 0.2302 - val_acc: 0.9100\n",
            "Epoch 16/50\n",
            "150/150 [==============================] - 17s 111ms/step - loss: 0.1066 - acc: 0.9626 - val_loss: 0.3195 - val_acc: 0.8975\n",
            "Epoch 17/50\n",
            "150/150 [==============================] - 17s 112ms/step - loss: 0.0856 - acc: 0.9716 - val_loss: 0.2118 - val_acc: 0.9350\n",
            "Epoch 18/50\n",
            "150/150 [==============================] - 17s 112ms/step - loss: 0.0778 - acc: 0.9766 - val_loss: 0.2118 - val_acc: 0.9400\n",
            "Epoch 19/50\n",
            "150/150 [==============================] - 17s 112ms/step - loss: 0.0670 - acc: 0.9766 - val_loss: 0.2641 - val_acc: 0.9075\n",
            "Epoch 20/50\n",
            "150/150 [==============================] - 17s 112ms/step - loss: 0.0619 - acc: 0.9796 - val_loss: 0.2238 - val_acc: 0.9450\n",
            "Epoch 21/50\n",
            "150/150 [==============================] - 17s 111ms/step - loss: 0.0499 - acc: 0.9833 - val_loss: 0.2238 - val_acc: 0.9425\n",
            "Epoch 22/50\n",
            "150/150 [==============================] - 17s 111ms/step - loss: 0.0427 - acc: 0.9846 - val_loss: 0.5305 - val_acc: 0.8825\n",
            "Epoch 23/50\n",
            "150/150 [==============================] - 17s 112ms/step - loss: 0.0370 - acc: 0.9893 - val_loss: 0.2197 - val_acc: 0.9275\n"
          ]
        }
      ]
    },
    {
      "cell_type": "code",
      "metadata": {
        "colab": {
          "base_uri": "https://localhost:8080/",
          "height": 561
        },
        "id": "EtS9zPCvEkXZ",
        "outputId": "37508824-4960-406f-81d2-6ac921d34389"
      },
      "source": [
        "acc = history.history['acc']\n",
        "val_acc = history.history['val_acc']\n",
        "loss = history.history['loss']\n",
        "val_loss = history.history['val_loss']\n",
        "epochs = range(len(acc))\n",
        "\n",
        "plt.plot(epochs, acc, 'bo', label='Training acc')\n",
        "plt.plot(epochs, val_acc, 'b', label='Validation acc')\n",
        "plt.title('Training and validation accuracy')\n",
        "plt.legend()\n",
        "plt.figure()\n",
        "plt.plot(epochs, loss, 'bo', label='Training loss')\n",
        "plt.plot(epochs, val_loss, 'b', label='Validation loss')\n",
        "plt.title('Training and validation loss')\n",
        "plt.legend()\n",
        "plt.show()"
      ],
      "execution_count": null,
      "outputs": [
        {
          "output_type": "stream",
          "name": "stderr",
          "text": [
            "findfont: Font family ['NanumBarunGothic'] not found. Falling back to DejaVu Sans.\n"
          ]
        },
        {
          "output_type": "display_data",
          "data": {
            "image/png": "[encoded data removed]",
            "text/plain": [
              "<Figure size 432x288 with 1 Axes>"
            ]
          },
          "metadata": {
            "image/png": {
              "width": 372,
              "height": 263
            },
            "needs_background": "light"
          }
        },
        {
          "output_type": "display_data",
          "data": {
            "image/png": "[encoded data removed]",
            "text/plain": [
              "<Figure size 432x288 with 1 Axes>"
            ]
          },
          "metadata": {
            "image/png": {
              "width": 372,
              "height": 263
            },
            "needs_background": "light"
          }
        }
      ]
    },
    {
      "cell_type": "code",
      "metadata": {
        "id": "mKfkTm_TbKNk",
        "colab": {
          "base_uri": "https://localhost:8080/"
        },
        "outputId": "04a0612e-c7d1-4ee9-8646-b60a04032165"
      },
      "source": [
        "scores = model.evaluate_generator(test_generator, steps=20)"
      ],
      "execution_count": null,
      "outputs": [
        {
          "output_type": "stream",
          "name": "stderr",
          "text": [
            "/usr/local/lib/python3.7/dist-packages/ipykernel_launcher.py:1: UserWarning: `Model.evaluate_generator` is deprecated and will be removed in a future version. Please use `Model.evaluate`, which supports generators.\n",
            "  \"\"\"Entry point for launching an IPython kernel.\n"
          ]
        }
      ]
    },
    {
      "cell_type": "code",
      "metadata": {
        "colab": {
          "base_uri": "https://localhost:8080/"
        },
        "id": "97gUboHIBkPQ",
        "outputId": "56ab7adf-9c03-483f-d214-fdf0610098d2"
      },
      "source": [
        "print(\"%s: %.2f%%\" %(model.metrics_names[1], scores[1]*100))"
      ],
      "execution_count": null,
      "outputs": [
        {
          "output_type": "stream",
          "name": "stdout",
          "text": [
            "acc: 94.25%\n"
          ]
        }
      ]
    },
    {
      "cell_type": "markdown",
      "metadata": {
        "id": "e2w65enxc87v"
      },
      "source": [
        "### 데이터 보강 후 CNN1\n",
        "- accuracy 94.25%"
      ]
    },
    {
      "cell_type": "code",
      "metadata": {
        "colab": {
          "base_uri": "https://localhost:8080/"
        },
        "id": "4Hs1JB7MdJqO",
        "outputId": "a75f7b05-f861-4994-ad5f-bd5b8374ab82"
      },
      "source": [
        "img_size=256\n",
        "\n",
        "model = models.Sequential()\n",
        "model.add(layers.Conv2D(32, (3, 3), activation='relu', input_shape=(img_size, img_size, 3)))\n",
        "model.add(layers.MaxPooling2D((2, 2)))\n",
        "model.add(layers.Conv2D(64, (3, 3), activation='relu'))\n",
        "model.add(layers.MaxPooling2D((2, 2)))\n",
        "model.add(layers.Conv2D(128, (3, 3), activation='relu'))\n",
        "model.add(layers.MaxPooling2D((2, 2)))\n",
        "model.add(layers.Conv2D(128, (3, 3), activation='relu'))\n",
        "model.add(layers.MaxPooling2D((2, 2)))\n",
        "model.add(layers.Flatten())\n",
        "model.add(layers.Dropout(0.5))\n",
        "model.add(layers.Dense(512, activation='relu'))\n",
        "model.add(layers.Dense(3, activation='sigmoid'))\n",
        "\n",
        "model.compile(loss='categorical_crossentropy',optimizer=optimizers.RMSprop(lr=1e-4), metrics=['acc'])\n",
        "\n",
        "train_datagen = ImageDataGenerator(rescale=1./255, rotation_range=40,width_shift_range=0.2,\n",
        "                                   height_shift_range=0.2,shear_range=0.2,zoom_range=0.2, horizontal_flip=True,)\n",
        "\n",
        "valid_datagen = ImageDataGenerator(rescale=1./255)\n",
        "test_datagen = ImageDataGenerator(rescale=1./255)\n",
        "\n",
        "train_generator = train_datagen.flow_from_directory(train_dir,target_size=(img_size, img_size),batch_size=20, class_mode='categorical')\n",
        "valid_generator = valid_datagen.flow_from_directory(valid_dir,target_size=(img_size, img_size),batch_size=20, class_mode='categorical')\n",
        "test_generator = test_datagen.flow_from_directory( test_dir, target_size=(img_size, img_size), batch_size=20, class_mode='categorical')\n",
        "\n",
        "\n",
        "history = model.fit_generator(train_generator,\n",
        "                              steps_per_epoch=150,\n",
        "                              epochs=50,\n",
        "                              validation_data=valid_generator,\n",
        "                              validation_steps=20, \n",
        "                              callbacks =[earlystopping])"
      ],
      "execution_count": null,
      "outputs": [
        {
          "output_type": "stream",
          "name": "stderr",
          "text": [
            "/usr/local/lib/python3.7/dist-packages/keras/optimizer_v2/rmsprop.py:130: UserWarning: The `lr` argument is deprecated, use `learning_rate` instead.\n",
            "  super(RMSprop, self).__init__(name, **kwargs)\n"
          ]
        },
        {
          "output_type": "stream",
          "name": "stdout",
          "text": [
            "Found 3251 images belonging to 3 classes.\n",
            "Found 416 images belonging to 3 classes.\n",
            "Found 405 images belonging to 3 classes.\n"
          ]
        },
        {
          "output_type": "stream",
          "name": "stderr",
          "text": [
            "/usr/local/lib/python3.7/dist-packages/ipykernel_launcher.py:34: UserWarning: `Model.fit_generator` is deprecated and will be removed in a future version. Please use `Model.fit`, which supports generators.\n"
          ]
        },
        {
          "output_type": "stream",
          "name": "stdout",
          "text": [
            "Epoch 1/50\n",
            "150/150 [==============================] - 59s 384ms/step - loss: 1.0195 - acc: 0.4711 - val_loss: 0.8878 - val_acc: 0.6325\n",
            "Epoch 2/50\n",
            "150/150 [==============================] - 57s 381ms/step - loss: 0.8737 - acc: 0.6148 - val_loss: 0.7550 - val_acc: 0.6625\n",
            "Epoch 3/50\n",
            "150/150 [==============================] - 57s 381ms/step - loss: 0.7612 - acc: 0.6710 - val_loss: 0.6107 - val_acc: 0.7775\n",
            "Epoch 4/50\n",
            "150/150 [==============================] - 57s 382ms/step - loss: 0.6642 - acc: 0.7220 - val_loss: 0.7665 - val_acc: 0.6775\n",
            "Epoch 5/50\n",
            "150/150 [==============================] - 57s 381ms/step - loss: 0.5964 - acc: 0.7627 - val_loss: 0.6281 - val_acc: 0.7100\n",
            "Epoch 6/50\n",
            "150/150 [==============================] - 57s 382ms/step - loss: 0.5333 - acc: 0.7967 - val_loss: 0.4922 - val_acc: 0.8050\n",
            "Epoch 7/50\n",
            "150/150 [==============================] - 57s 382ms/step - loss: 0.4817 - acc: 0.8211 - val_loss: 0.4227 - val_acc: 0.8225\n",
            "Epoch 8/50\n",
            "150/150 [==============================] - 57s 379ms/step - loss: 0.4650 - acc: 0.8218 - val_loss: 0.3553 - val_acc: 0.8800\n",
            "Epoch 9/50\n",
            "150/150 [==============================] - 57s 382ms/step - loss: 0.4103 - acc: 0.8425 - val_loss: 0.3278 - val_acc: 0.8950\n",
            "Epoch 10/50\n",
            "150/150 [==============================] - 57s 378ms/step - loss: 0.3959 - acc: 0.8613 - val_loss: 0.3260 - val_acc: 0.8850\n",
            "Epoch 11/50\n",
            "150/150 [==============================] - 56s 373ms/step - loss: 0.3511 - acc: 0.8653 - val_loss: 0.3347 - val_acc: 0.9175\n",
            "Epoch 12/50\n",
            "150/150 [==============================] - 57s 378ms/step - loss: 0.3454 - acc: 0.8766 - val_loss: 0.2800 - val_acc: 0.8825\n",
            "Epoch 13/50\n",
            "150/150 [==============================] - 56s 374ms/step - loss: 0.3273 - acc: 0.8750 - val_loss: 0.2490 - val_acc: 0.9100\n",
            "Epoch 14/50\n",
            "150/150 [==============================] - 56s 374ms/step - loss: 0.3073 - acc: 0.8900 - val_loss: 0.2184 - val_acc: 0.9275\n",
            "Epoch 15/50\n",
            "150/150 [==============================] - 56s 375ms/step - loss: 0.3140 - acc: 0.8860 - val_loss: 0.2509 - val_acc: 0.9200\n",
            "Epoch 16/50\n",
            "150/150 [==============================] - 56s 373ms/step - loss: 0.2671 - acc: 0.9044 - val_loss: 0.3807 - val_acc: 0.8675\n",
            "Epoch 17/50\n",
            "150/150 [==============================] - 56s 375ms/step - loss: 0.2788 - acc: 0.9010 - val_loss: 0.3036 - val_acc: 0.8875\n",
            "Epoch 18/50\n",
            "150/150 [==============================] - 57s 377ms/step - loss: 0.2785 - acc: 0.8980 - val_loss: 0.2038 - val_acc: 0.9500\n",
            "Epoch 19/50\n",
            "150/150 [==============================] - 57s 379ms/step - loss: 0.2631 - acc: 0.9084 - val_loss: 0.2121 - val_acc: 0.9250\n",
            "Epoch 20/50\n",
            "150/150 [==============================] - 57s 381ms/step - loss: 0.2520 - acc: 0.9174 - val_loss: 0.5525 - val_acc: 0.8075\n",
            "Epoch 21/50\n",
            "150/150 [==============================] - 57s 378ms/step - loss: 0.2507 - acc: 0.9151 - val_loss: 0.1978 - val_acc: 0.9325\n",
            "Epoch 22/50\n",
            "150/150 [==============================] - 57s 377ms/step - loss: 0.2349 - acc: 0.9168 - val_loss: 0.1994 - val_acc: 0.9350\n",
            "Epoch 23/50\n",
            "150/150 [==============================] - 56s 372ms/step - loss: 0.2268 - acc: 0.9228 - val_loss: 0.1931 - val_acc: 0.9425\n",
            "Epoch 24/50\n",
            "150/150 [==============================] - 56s 375ms/step - loss: 0.2319 - acc: 0.9207 - val_loss: 0.1459 - val_acc: 0.9475\n",
            "Epoch 25/50\n",
            "150/150 [==============================] - 56s 374ms/step - loss: 0.2109 - acc: 0.9243 - val_loss: 0.1989 - val_acc: 0.9425\n",
            "Epoch 26/50\n",
            "150/150 [==============================] - 56s 375ms/step - loss: 0.2126 - acc: 0.9291 - val_loss: 0.2190 - val_acc: 0.9400\n",
            "Epoch 27/50\n",
            "150/150 [==============================] - 57s 377ms/step - loss: 0.2091 - acc: 0.9204 - val_loss: 0.1656 - val_acc: 0.9400\n",
            "Epoch 28/50\n",
            "150/150 [==============================] - 56s 375ms/step - loss: 0.2104 - acc: 0.9218 - val_loss: 0.3496 - val_acc: 0.8875\n",
            "Epoch 29/50\n",
            "150/150 [==============================] - 56s 371ms/step - loss: 0.2023 - acc: 0.9328 - val_loss: 0.1962 - val_acc: 0.9400\n"
          ]
        }
      ]
    },
    {
      "cell_type": "code",
      "metadata": {
        "colab": {
          "base_uri": "https://localhost:8080/",
          "height": 543
        },
        "id": "uwqcqMdsNJMA",
        "outputId": "88164412-75d6-41a8-9b35-b220feb493cf"
      },
      "source": [
        "acc = history.history['acc']\n",
        "val_acc = history.history['val_acc']\n",
        "loss = history.history['loss']\n",
        "val_loss = history.history['val_loss']\n",
        "epochs = range(len(acc))\n",
        "\n",
        "plt.plot(epochs, acc, 'bo', label='Training acc')\n",
        "plt.plot(epochs, val_acc, 'b', label='Validation acc')\n",
        "plt.title('Training and validation accuracy')\n",
        "plt.legend()\n",
        "plt.figure()\n",
        "plt.plot(epochs, loss, 'bo', label='Training loss')\n",
        "plt.plot(epochs, val_loss, 'b', label='Validation loss')\n",
        "plt.title('Training and validation loss')\n",
        "plt.legend()\n",
        "plt.show()"
      ],
      "execution_count": null,
      "outputs": [
        {
          "output_type": "display_data",
          "data": {
            "image/png": "[encoded data removed]",
            "text/plain": [
              "<Figure size 432x288 with 1 Axes>"
            ]
          },
          "metadata": {
            "image/png": {
              "width": 372,
              "height": 263
            },
            "needs_background": "light"
          }
        },
        {
          "output_type": "display_data",
          "data": {
            "image/png": "[encoded data removed]",
            "text/plain": [
              "<Figure size 432x288 with 1 Axes>"
            ]
          },
          "metadata": {
            "image/png": {
              "width": 372,
              "height": 263
            },
            "needs_background": "light"
          }
        }
      ]
    },
    {
      "cell_type": "code",
      "metadata": {
        "colab": {
          "base_uri": "https://localhost:8080/"
        },
        "id": "sAEV18GzNLV3",
        "outputId": "b340e4ba-5f82-49ca-8e7d-33b66eae0f39"
      },
      "source": [
        "scores = model.evaluate_generator(test_generator, steps=20)\n",
        "print(\"%s: %.2f%%\" %(model.metrics_names[1], scores[1]*100))"
      ],
      "execution_count": null,
      "outputs": [
        {
          "output_type": "stream",
          "name": "stderr",
          "text": [
            "/usr/local/lib/python3.7/dist-packages/ipykernel_launcher.py:1: UserWarning: `Model.evaluate_generator` is deprecated and will be removed in a future version. Please use `Model.evaluate`, which supports generators.\n",
            "  \"\"\"Entry point for launching an IPython kernel.\n"
          ]
        },
        {
          "output_type": "stream",
          "name": "stdout",
          "text": [
            "acc: 94.25%\n"
          ]
        }
      ]
    },
    {
      "cell_type": "markdown",
      "metadata": {
        "id": "vJL1COmpBwX7"
      },
      "source": [
        "### CNN2\n",
        "- accuracy 91.50%"
      ]
    },
    {
      "cell_type": "code",
      "metadata": {
        "colab": {
          "base_uri": "https://localhost:8080/"
        },
        "id": "8uZiR39INWMV",
        "outputId": "641f0fb8-d614-4b04-b0bb-a435547bf53a"
      },
      "source": [
        "model2 = models.Sequential([\n",
        "        layers.Conv2D(32, (3, 3), activation='relu', input_shape=(img_size, img_size, 3)),\n",
        "        layers.MaxPooling2D((2, 2)),\n",
        "        layers.Conv2D(64, (3, 3), activation='relu'),\n",
        "        layers.MaxPooling2D((2, 2)),\n",
        "        layers.Conv2D(64, (3, 3), activation='relu'),\n",
        "        layers.MaxPooling2D((2, 2)),\n",
        "        layers.Conv2D(64, (3, 3), activation='relu'),\n",
        "        layers.MaxPooling2D((2, 2)),\n",
        "        layers.Conv2D(64, (3, 3), activation='relu'),\n",
        "        layers.MaxPooling2D((2, 2)),\n",
        "        layers.Conv2D(64, (3, 3), activation='relu'),\n",
        "        layers.MaxPooling2D((2, 2)),\n",
        "        layers.Flatten(),\n",
        "        layers.Dense(64, activation='relu'),\n",
        "        layers.Dense(3, activation='softmax'),\n",
        "])\n",
        "model2.build(input_shape=(img_size, img_size, 3)) \n",
        "\n",
        "model2.compile(loss='categorical_crossentropy', optimizer=optimizers.RMSprop(lr=1e-4),metrics=['acc'])\n",
        "history = model2.fit(\n",
        "    train_generator,\n",
        "    steps_per_epoch=150,\n",
        "    epochs=50,\n",
        "    validation_data=valid_generator,validation_steps=20, callbacks =[earlystopping])"
      ],
      "execution_count": null,
      "outputs": [
        {
          "output_type": "stream",
          "name": "stderr",
          "text": [
            "/usr/local/lib/python3.7/dist-packages/keras/optimizer_v2/rmsprop.py:130: UserWarning: The `lr` argument is deprecated, use `learning_rate` instead.\n",
            "  super(RMSprop, self).__init__(name, **kwargs)\n"
          ]
        },
        {
          "output_type": "stream",
          "name": "stdout",
          "text": [
            "Epoch 1/50\n",
            "150/150 [==============================] - 17s 103ms/step - loss: 1.0361 - acc: 0.4417 - val_loss: 0.9398 - val_acc: 0.6100\n",
            "Epoch 2/50\n",
            "150/150 [==============================] - 15s 102ms/step - loss: 0.9243 - acc: 0.5814 - val_loss: 0.8690 - val_acc: 0.6275\n",
            "Epoch 3/50\n",
            "150/150 [==============================] - 15s 100ms/step - loss: 0.8724 - acc: 0.6142 - val_loss: 0.8127 - val_acc: 0.6550\n",
            "Epoch 4/50\n",
            "150/150 [==============================] - 15s 102ms/step - loss: 0.8320 - acc: 0.6356 - val_loss: 0.7546 - val_acc: 0.7075\n",
            "Epoch 5/50\n",
            "150/150 [==============================] - 15s 101ms/step - loss: 0.7589 - acc: 0.6693 - val_loss: 0.6938 - val_acc: 0.7150\n",
            "Epoch 6/50\n",
            "150/150 [==============================] - 15s 101ms/step - loss: 0.6789 - acc: 0.7222 - val_loss: 0.6034 - val_acc: 0.7650\n",
            "Epoch 7/50\n",
            "150/150 [==============================] - 15s 102ms/step - loss: 0.5901 - acc: 0.7586 - val_loss: 0.5271 - val_acc: 0.7950\n",
            "Epoch 8/50\n",
            "150/150 [==============================] - 15s 100ms/step - loss: 0.5181 - acc: 0.8031 - val_loss: 0.5584 - val_acc: 0.7775\n",
            "Epoch 9/50\n",
            "150/150 [==============================] - 15s 102ms/step - loss: 0.4696 - acc: 0.8288 - val_loss: 0.4085 - val_acc: 0.8325\n",
            "Epoch 10/50\n",
            "150/150 [==============================] - 15s 102ms/step - loss: 0.4040 - acc: 0.8492 - val_loss: 0.4042 - val_acc: 0.8250\n",
            "Epoch 11/50\n",
            "150/150 [==============================] - 15s 101ms/step - loss: 0.3684 - acc: 0.8686 - val_loss: 0.3444 - val_acc: 0.8800\n",
            "Epoch 12/50\n",
            "150/150 [==============================] - 15s 101ms/step - loss: 0.3366 - acc: 0.8793 - val_loss: 0.3248 - val_acc: 0.8675\n",
            "Epoch 13/50\n",
            "150/150 [==============================] - 15s 102ms/step - loss: 0.3183 - acc: 0.8853 - val_loss: 0.3301 - val_acc: 0.8625\n",
            "Epoch 14/50\n",
            "150/150 [==============================] - 15s 101ms/step - loss: 0.2834 - acc: 0.8990 - val_loss: 0.3871 - val_acc: 0.8475\n",
            "Epoch 15/50\n",
            "150/150 [==============================] - 16s 103ms/step - loss: 0.2663 - acc: 0.9040 - val_loss: 0.2713 - val_acc: 0.9225\n",
            "Epoch 16/50\n",
            "150/150 [==============================] - 16s 103ms/step - loss: 0.2539 - acc: 0.9117 - val_loss: 0.2431 - val_acc: 0.9150\n",
            "Epoch 17/50\n",
            "150/150 [==============================] - 15s 102ms/step - loss: 0.2358 - acc: 0.9141 - val_loss: 0.3052 - val_acc: 0.9000\n",
            "Epoch 18/50\n",
            "150/150 [==============================] - 15s 102ms/step - loss: 0.2186 - acc: 0.9194 - val_loss: 0.2771 - val_acc: 0.9000\n",
            "Epoch 19/50\n",
            "150/150 [==============================] - 15s 102ms/step - loss: 0.2207 - acc: 0.9201 - val_loss: 0.2299 - val_acc: 0.9150\n",
            "Epoch 20/50\n",
            "150/150 [==============================] - 15s 102ms/step - loss: 0.1990 - acc: 0.9281 - val_loss: 0.2220 - val_acc: 0.9250\n",
            "Epoch 21/50\n",
            "150/150 [==============================] - 16s 103ms/step - loss: 0.1886 - acc: 0.9328 - val_loss: 0.2563 - val_acc: 0.9100\n",
            "Epoch 22/50\n",
            "150/150 [==============================] - 16s 103ms/step - loss: 0.1910 - acc: 0.9325 - val_loss: 0.2863 - val_acc: 0.8900\n",
            "Epoch 23/50\n",
            "150/150 [==============================] - 15s 102ms/step - loss: 0.1745 - acc: 0.9351 - val_loss: 0.2633 - val_acc: 0.9150\n",
            "Epoch 24/50\n",
            "150/150 [==============================] - 16s 103ms/step - loss: 0.1681 - acc: 0.9412 - val_loss: 0.2418 - val_acc: 0.9075\n",
            "Epoch 25/50\n",
            "150/150 [==============================] - 16s 104ms/step - loss: 0.1565 - acc: 0.9435 - val_loss: 0.2320 - val_acc: 0.9200\n"
          ]
        }
      ]
    },
    {
      "cell_type": "code",
      "metadata": {
        "colab": {
          "base_uri": "https://localhost:8080/",
          "height": 543
        },
        "id": "0T6ktKlR1MAd",
        "outputId": "eb6e67af-0fa4-40f6-85c4-ad9b5140e6a9"
      },
      "source": [
        "acc = history.history['acc']\n",
        "val_acc = history.history['val_acc']\n",
        "loss = history.history['loss']\n",
        "val_loss = history.history['val_loss']\n",
        "epochs = range(len(acc))\n",
        "\n",
        "plt.plot(epochs, acc, 'bo', label='Training acc')\n",
        "plt.plot(epochs, val_acc, 'b', label='Validation acc')\n",
        "plt.title('Training and validation accuracy')\n",
        "plt.legend()\n",
        "plt.figure()\n",
        "plt.plot(epochs, loss, 'bo', label='Training loss')\n",
        "plt.plot(epochs, val_loss, 'b', label='Validation loss')\n",
        "plt.title('Training and validation loss')\n",
        "plt.legend()\n",
        "plt.show()"
      ],
      "execution_count": null,
      "outputs": [
        {
          "output_type": "display_data",
          "data": {
            "image/png": "[encoded data removed]",
            "text/plain": [
              "<Figure size 432x288 with 1 Axes>"
            ]
          },
          "metadata": {
            "image/png": {
              "width": 375,
              "height": 263
            },
            "needs_background": "light"
          }
        },
        {
          "output_type": "display_data",
          "data": {
            "image/png": "[encoded data removed]",
            "text/plain": [
              "<Figure size 432x288 with 1 Axes>"
            ]
          },
          "metadata": {
            "image/png": {
              "width": 375,
              "height": 263
            },
            "needs_background": "light"
          }
        }
      ]
    },
    {
      "cell_type": "code",
      "metadata": {
        "colab": {
          "base_uri": "https://localhost:8080/"
        },
        "id": "nRmHKuk1D3zi",
        "outputId": "f01da594-44bb-4677-aaa7-d73f8e518c45"
      },
      "source": [
        "scores = model2.evaluate_generator(test_generator, steps=20)\n",
        "print(\"%s: %.2f%%\" %(model2.metrics_names[1], scores[1]*100))"
      ],
      "execution_count": null,
      "outputs": [
        {
          "output_type": "stream",
          "name": "stderr",
          "text": [
            "/usr/local/lib/python3.7/dist-packages/ipykernel_launcher.py:1: UserWarning: `Model.evaluate_generator` is deprecated and will be removed in a future version. Please use `Model.evaluate`, which supports generators.\n",
            "  \"\"\"Entry point for launching an IPython kernel.\n"
          ]
        },
        {
          "output_type": "stream",
          "name": "stdout",
          "text": [
            "acc: 91.50%\n"
          ]
        }
      ]
    },
    {
      "cell_type": "markdown",
      "metadata": {
        "id": "T_ZeybrTKOqY"
      },
      "source": [
        "### VGG16\n",
        "- accuracy 98.25%"
      ]
    },
    {
      "cell_type": "code",
      "metadata": {
        "colab": {
          "base_uri": "https://localhost:8080/"
        },
        "id": "DCDwUykTFzyZ",
        "outputId": "124428e2-130b-4a70-daeb-7e6498fa6522"
      },
      "source": [
        "from tensorflow.keras.applications import VGG16\n",
        "\n",
        "img_size=256\n",
        "conv_base = VGG16(weights='imagenet', include_top=False, input_shape=(img_size, img_size, 3))\n",
        "conv_base.summary()"
      ],
      "execution_count": null,
      "outputs": [
        {
          "output_type": "stream",
          "name": "stdout",
          "text": [
            "Downloading data from https://storage.googleapis.com/tensorflow/keras-applications/vgg16/vgg16_weights_tf_dim_ordering_tf_kernels_notop.h5\n",
            "58892288/58889256 [==============================] - 2s 0us/step\n",
            "58900480/58889256 [==============================] - 2s 0us/step\n",
            "Model: \"vgg16\"\n",
            "_________________________________________________________________\n",
            " Layer (type)                Output Shape              Param #   \n",
            "=================================================================\n",
            " input_1 (InputLayer)        [(None, 256, 256, 3)]     0         \n",
            "                                                                 \n",
            " block1_conv1 (Conv2D)       (None, 256, 256, 64)      1792      \n",
            "                                                                 \n",
            " block1_conv2 (Conv2D)       (None, 256, 256, 64)      36928     \n",
            "                                                                 \n",
            " block1_pool (MaxPooling2D)  (None, 128, 128, 64)      0         \n",
            "                                                                 \n",
            " block2_conv1 (Conv2D)       (None, 128, 128, 128)     73856     \n",
            "                                                                 \n",
            " block2_conv2 (Conv2D)       (None, 128, 128, 128)     147584    \n",
            "                                                                 \n",
            " block2_pool (MaxPooling2D)  (None, 64, 64, 128)       0         \n",
            "                                                                 \n",
            " block3_conv1 (Conv2D)       (None, 64, 64, 256)       295168    \n",
            "                                                                 \n",
            " block3_conv2 (Conv2D)       (None, 64, 64, 256)       590080    \n",
            "                                                                 \n",
            " block3_conv3 (Conv2D)       (None, 64, 64, 256)       590080    \n",
            "                                                                 \n",
            " block3_pool (MaxPooling2D)  (None, 32, 32, 256)       0         \n",
            "                                                                 \n",
            " block4_conv1 (Conv2D)       (None, 32, 32, 512)       1180160   \n",
            "                                                                 \n",
            " block4_conv2 (Conv2D)       (None, 32, 32, 512)       2359808   \n",
            "                                                                 \n",
            " block4_conv3 (Conv2D)       (None, 32, 32, 512)       2359808   \n",
            "                                                                 \n",
            " block4_pool (MaxPooling2D)  (None, 16, 16, 512)       0         \n",
            "                                                                 \n",
            " block5_conv1 (Conv2D)       (None, 16, 16, 512)       2359808   \n",
            "                                                                 \n",
            " block5_conv2 (Conv2D)       (None, 16, 16, 512)       2359808   \n",
            "                                                                 \n",
            " block5_conv3 (Conv2D)       (None, 16, 16, 512)       2359808   \n",
            "                                                                 \n",
            " block5_pool (MaxPooling2D)  (None, 8, 8, 512)         0         \n",
            "                                                                 \n",
            "=================================================================\n",
            "Total params: 14,714,688\n",
            "Trainable params: 14,714,688\n",
            "Non-trainable params: 0\n",
            "_________________________________________________________________\n"
          ]
        }
      ]
    },
    {
      "cell_type": "code",
      "metadata": {
        "id": "fBJGWRvybOmn",
        "colab": {
          "base_uri": "https://localhost:8080/"
        },
        "outputId": "8f101412-4e06-4db2-bf2a-2ee035852217"
      },
      "source": [
        "modelv = models.Sequential() \n",
        "modelv.add(conv_base) \n",
        "modelv.add(layers.Flatten())\n",
        "modelv.add(layers.Dense(256, activation='relu')) \n",
        "modelv.add(layers.Dense(3, activation='sigmoid'))\n",
        "modelv.summary()\n",
        "\n",
        "train_datagen = ImageDataGenerator(rescale=1./255, rotation_range=40,width_shift_range=0.2,height_shift_range=0.2,shear_range=0.2,zoom_range=0.2, horizontal_flip=True,)\n",
        "\n",
        "valid_datagen = ImageDataGenerator(rescale=1./255)\n",
        "test_datagen = ImageDataGenerator(rescale=1./255)\n",
        "\n",
        "train_generator = train_datagen.flow_from_directory(train_dir,target_size=(img_size, img_size),batch_size=20, class_mode='categorical')\n",
        "valid_generator = valid_datagen.flow_from_directory(valid_dir,target_size=(img_size, img_size),batch_size=20, class_mode='categorical')\n",
        "test_generator = test_datagen.flow_from_directory( test_dir, target_size=(img_size, img_size), batch_size=20, class_mode='categorical')\n",
        "\n",
        "modelv.compile(loss='categorical_crossentropy', optimizer=optimizers.RMSprop(lr=1e-4),metrics=['acc'])\n",
        "\n",
        "history = modelv.fit_generator(train_generator,\n",
        "                              steps_per_epoch=150,\n",
        "                              epochs=50,\n",
        "                              validation_data=valid_generator,\n",
        "                              validation_steps=20, \n",
        "                              callbacks =[earlystopping])"
      ],
      "execution_count": null,
      "outputs": [
        {
          "output_type": "stream",
          "name": "stdout",
          "text": [
            "Model: \"sequential_6\"\n",
            "_________________________________________________________________\n",
            " Layer (type)                Output Shape              Param #   \n",
            "=================================================================\n",
            " vgg16 (Functional)          (None, 8, 8, 512)         14714688  \n",
            "                                                                 \n",
            " flatten_6 (Flatten)         (None, 32768)             0         \n",
            "                                                                 \n",
            " dense_12 (Dense)            (None, 256)               8388864   \n",
            "                                                                 \n",
            " dense_13 (Dense)            (None, 3)                 771       \n",
            "                                                                 \n",
            "=================================================================\n",
            "Total params: 23,104,323\n",
            "Trainable params: 23,104,323\n",
            "Non-trainable params: 0\n",
            "_________________________________________________________________\n",
            "Found 3251 images belonging to 3 classes.\n",
            "Found 416 images belonging to 3 classes.\n",
            "Found 405 images belonging to 3 classes.\n"
          ]
        },
        {
          "output_type": "stream",
          "name": "stderr",
          "text": [
            "/usr/local/lib/python3.7/dist-packages/keras/optimizer_v2/rmsprop.py:130: UserWarning: The `lr` argument is deprecated, use `learning_rate` instead.\n",
            "  super(RMSprop, self).__init__(name, **kwargs)\n",
            "/usr/local/lib/python3.7/dist-packages/ipykernel_launcher.py:24: UserWarning: `Model.fit_generator` is deprecated and will be removed in a future version. Please use `Model.fit`, which supports generators.\n"
          ]
        },
        {
          "output_type": "stream",
          "name": "stdout",
          "text": [
            "Epoch 1/50\n",
            "150/150 [==============================] - 138s 835ms/step - loss: 1.1358 - acc: 0.3748 - val_loss: 1.0858 - val_acc: 0.3925\n",
            "Epoch 2/50\n",
            "150/150 [==============================] - 119s 793ms/step - loss: 1.0353 - acc: 0.4550 - val_loss: 0.7974 - val_acc: 0.6050\n",
            "Epoch 3/50\n",
            "150/150 [==============================] - 120s 798ms/step - loss: 0.7264 - acc: 0.6867 - val_loss: 0.5117 - val_acc: 0.8250\n",
            "Epoch 4/50\n",
            "150/150 [==============================] - 120s 795ms/step - loss: 0.3688 - acc: 0.8572 - val_loss: 0.3638 - val_acc: 0.8100\n",
            "Epoch 5/50\n",
            "150/150 [==============================] - 120s 794ms/step - loss: 0.3120 - acc: 0.9067 - val_loss: 0.1709 - val_acc: 0.9325\n",
            "Epoch 6/50\n",
            "150/150 [==============================] - 120s 795ms/step - loss: 0.2125 - acc: 0.9460 - val_loss: 0.0584 - val_acc: 0.9775\n",
            "Epoch 7/50\n",
            "150/150 [==============================] - 119s 793ms/step - loss: 0.2153 - acc: 0.9448 - val_loss: 0.0821 - val_acc: 0.9725\n",
            "Epoch 8/50\n",
            "150/150 [==============================] - 119s 793ms/step - loss: 0.1811 - acc: 0.9579 - val_loss: 0.0584 - val_acc: 0.9875\n",
            "Epoch 9/50\n",
            "150/150 [==============================] - 119s 794ms/step - loss: 0.1280 - acc: 0.9649 - val_loss: 0.0785 - val_acc: 0.9925\n",
            "Epoch 10/50\n",
            "150/150 [==============================] - 119s 793ms/step - loss: 0.1998 - acc: 0.9662 - val_loss: 0.0576 - val_acc: 0.9750\n",
            "Epoch 11/50\n",
            "150/150 [==============================] - 119s 794ms/step - loss: 0.1631 - acc: 0.9572 - val_loss: 0.0627 - val_acc: 0.9850\n",
            "Epoch 12/50\n",
            "150/150 [==============================] - 119s 792ms/step - loss: 0.1902 - acc: 0.9626 - val_loss: 0.0542 - val_acc: 0.9825\n",
            "Epoch 13/50\n",
            "150/150 [==============================] - 119s 793ms/step - loss: 0.2052 - acc: 0.9629 - val_loss: 0.0405 - val_acc: 0.9900\n",
            "Epoch 14/50\n",
            "150/150 [==============================] - 119s 791ms/step - loss: 0.1436 - acc: 0.9639 - val_loss: 0.0597 - val_acc: 0.9775\n",
            "Epoch 15/50\n",
            "150/150 [==============================] - 119s 792ms/step - loss: 0.1320 - acc: 0.9699 - val_loss: 0.2757 - val_acc: 0.9425\n",
            "Epoch 16/50\n",
            "150/150 [==============================] - 119s 791ms/step - loss: 0.1607 - acc: 0.9719 - val_loss: 1.9961 - val_acc: 0.8075\n",
            "Epoch 17/50\n",
            "150/150 [==============================] - 119s 793ms/step - loss: 0.1480 - acc: 0.9719 - val_loss: 0.0693 - val_acc: 0.9900\n",
            "Epoch 18/50\n",
            "150/150 [==============================] - 119s 792ms/step - loss: 0.1806 - acc: 0.9622 - val_loss: 0.0801 - val_acc: 0.9875\n"
          ]
        }
      ]
    },
    {
      "cell_type": "code",
      "metadata": {
        "colab": {
          "base_uri": "https://localhost:8080/",
          "height": 543
        },
        "id": "_eR4ul60ZhMR",
        "outputId": "38a8f0a4-fcb3-44e3-a307-2f6638f3a3ce"
      },
      "source": [
        "acc = history.history['acc']\n",
        "val_acc = history.history['val_acc']\n",
        "loss = history.history['loss']\n",
        "val_loss = history.history['val_loss']\n",
        "epochs = range(len(acc))\n",
        "\n",
        "plt.plot(epochs, acc, 'bo', label='Training acc')\n",
        "plt.plot(epochs, val_acc, 'b', label='Validation acc')\n",
        "plt.title('Training and validation accuracy')\n",
        "plt.legend()\n",
        "plt.figure()\n",
        "plt.plot(epochs, loss, 'bo', label='Training loss')\n",
        "plt.plot(epochs, val_loss, 'b', label='Validation loss')\n",
        "plt.title('Training and validation loss')\n",
        "plt.legend()\n",
        "plt.show()"
      ],
      "execution_count": null,
      "outputs": [
        {
          "output_type": "display_data",
          "data": {
            "image/png": "[encoded data removed]",
            "text/plain": [
              "<Figure size 432x288 with 1 Axes>"
            ]
          },
          "metadata": {
            "image/png": {
              "width": 376,
              "height": 263
            },
            "needs_background": "light"
          }
        },
        {
          "output_type": "display_data",
          "data": {
            "image/png": "[encoded data removed]",
            "text/plain": [
              "<Figure size 432x288 with 1 Axes>"
            ]
          },
          "metadata": {
            "image/png": {
              "width": 383,
              "height": 263
            },
            "needs_background": "light"
          }
        }
      ]
    },
    {
      "cell_type": "code",
      "metadata": {
        "colab": {
          "base_uri": "https://localhost:8080/"
        },
        "id": "TB1SgzL9Zl0s",
        "outputId": "4994d81e-c57d-4cb4-9ce0-0102713091e4"
      },
      "source": [
        "scores = modelv.evaluate_generator(test_generator, steps=20)\n",
        "print(\"%s: %.2f%%\" %(model.metrics_names[1], scores[1]*100))"
      ],
      "execution_count": null,
      "outputs": [
        {
          "output_type": "stream",
          "name": "stderr",
          "text": [
            "/usr/local/lib/python3.7/dist-packages/ipykernel_launcher.py:1: UserWarning: `Model.evaluate_generator` is deprecated and will be removed in a future version. Please use `Model.evaluate`, which supports generators.\n",
            "  \"\"\"Entry point for launching an IPython kernel.\n"
          ]
        },
        {
          "output_type": "stream",
          "name": "stdout",
          "text": [
            "acc: 98.25%\n"
          ]
        }
      ]
    }
  ]
}